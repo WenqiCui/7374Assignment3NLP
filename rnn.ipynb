{
 "cells": [
  {
   "cell_type": "code",
   "execution_count": 40,
   "metadata": {},
   "outputs": [],
   "source": [
    "'''This script loads pre-trained word embeddings (GloVe embeddings)\n",
    "into a frozen Keras Embedding layer, and uses it to\n",
    "train a text classification model on the 20 Newsgroup dataset\n",
    "(classification of newsgroup messages into 20 different categories).\n",
    "GloVe embedding data can be found at:\n",
    "http://nlp.stanford.edu/data/glove.6B.zip\n",
    "(source page: http://nlp.stanford.edu/projects/glove/)\n",
    "'''\n",
    "\n",
    "from __future__ import print_function\n",
    "\n",
    "import os\n",
    "import sys\n",
    "import numpy as np\n",
    "import json\n",
    "from keras.preprocessing.text import Tokenizer\n",
    "from keras.preprocessing.sequence import pad_sequences\n",
    "from keras.utils import to_categorical\n",
    "from keras.layers import Dense, Input, GlobalMaxPooling1D,LSTM\n",
    "from keras.layers import Conv1D, MaxPooling1D, Embedding,SimpleRNN\n",
    "from keras.models import Model,Sequential\n",
    "from keras.initializers import Constant\n",
    "from sklearn.model_selection import train_test_split\n",
    "import matplotlib.pyplot as plt\n",
    "from sklearn.metrics import confusion_matrix\n",
    "from keras import regularizers"
   ]
  },
  {
   "cell_type": "code",
   "execution_count": 23,
   "metadata": {},
   "outputs": [],
   "source": [
    "BASE_DIR = ''\n",
    "GLOVE_DIR = os.path.join(BASE_DIR, 'glove.6B')\n",
    "TEXT_DATA_DIR = os.path.join(BASE_DIR, '20_newsgroup')\n",
    "MAX_SEQUENCE_LENGTH = 150\n",
    "MAX_NUM_WORDS = 20000\n",
    "EMBEDDING_DIM = 100\n",
    "VALIDATION_SPLIT = 0.2\n"
   ]
  },
  {
   "cell_type": "code",
   "execution_count": 24,
   "metadata": {},
   "outputs": [
    {
     "name": "stdout",
     "output_type": "stream",
     "text": [
      "Indexing word vectors.\n",
      "Found 400000 word vectors.\n"
     ]
    }
   ],
   "source": [
    "\n",
    "\n",
    "# first, build index mapping words in the embeddings set\n",
    "# to their embedding vector\n",
    "\n",
    "print('Indexing word vectors.')\n",
    "\n",
    "embeddings_index = {}\n",
    "with open(os.path.join(GLOVE_DIR, 'glove.6B.100d.txt'),encoding='utf-8') as f:\n",
    "    \n",
    "    for line in f:\n",
    "        values = line.split()\n",
    "        word = values[0]\n",
    "        coefs = np.asarray(values[1:], dtype='float32')\n",
    "        embeddings_index[word] = coefs\n",
    "\n",
    "print('Found %s word vectors.' % len(embeddings_index))\n"
   ]
  },
  {
   "cell_type": "code",
   "execution_count": 25,
   "metadata": {},
   "outputs": [],
   "source": [
    "file_list = os.listdir('data')\n",
    "file_list\n",
    "X=[]\n",
    "Y=[]\n",
    "for file in file_list:\n",
    "    with open('data/'+file,'r') as f:\n",
    "        d = json.load(f)\n",
    "        X.extend(d['text'].values())\n",
    "        Y.extend(d['sentiment'].values())"
   ]
  },
  {
   "cell_type": "code",
   "execution_count": 26,
   "metadata": {},
   "outputs": [
    {
     "name": "stdout",
     "output_type": "stream",
     "text": [
      "Found 3710 unique tokens.\n"
     ]
    }
   ],
   "source": [
    "# finally, vectorize the text samples into a 2D integer tensor\n",
    "tokenizer = Tokenizer(num_words=MAX_NUM_WORDS)\n",
    "tokenizer.fit_on_texts(X)\n",
    "sequences = tokenizer.texts_to_sequences(X)\n",
    "\n",
    "word_index = tokenizer.word_index\n",
    "print('Found %s unique tokens.' % len(word_index))"
   ]
  },
  {
   "cell_type": "code",
   "execution_count": 27,
   "metadata": {},
   "outputs": [],
   "source": [
    "X = pad_sequences(sequences, maxlen=MAX_SEQUENCE_LENGTH)"
   ]
  },
  {
   "cell_type": "code",
   "execution_count": 28,
   "metadata": {},
   "outputs": [],
   "source": [
    "tokenizer=Tokenizer()\n",
    "\n",
    "tokenizer.fit_on_texts(Y)\n",
    "\n",
    "Y = tokenizer.texts_to_matrix(Y)\n",
    "\n",
    "Y = np.asarray([a[1:] for a in Y])"
   ]
  },
  {
   "cell_type": "code",
   "execution_count": 29,
   "metadata": {},
   "outputs": [
    {
     "name": "stdout",
     "output_type": "stream",
     "text": [
      "Shape of data tensor: (622, 150)\n",
      "Shape of label tensor: (622, 3)\n"
     ]
    }
   ],
   "source": [
    "print('Shape of data tensor:', X.shape)\n",
    "print('Shape of label tensor:', Y.shape)"
   ]
  },
  {
   "cell_type": "code",
   "execution_count": 30,
   "metadata": {},
   "outputs": [],
   "source": [
    "(x_train,x_test,y_train,y_test)=train_test_split(X,Y,random_state=42)"
   ]
  },
  {
   "cell_type": "code",
   "execution_count": 31,
   "metadata": {},
   "outputs": [],
   "source": [
    "# prepare embedding matrix\n",
    "num_words = min(MAX_NUM_WORDS, len(word_index)) + 1\n",
    "embedding_matrix = np.zeros((num_words, EMBEDDING_DIM))\n",
    "for word, i in word_index.items():\n",
    "    if i > MAX_NUM_WORDS:\n",
    "        continue\n",
    "    embedding_vector = embeddings_index.get(word)\n",
    "    if embedding_vector is not None:\n",
    "        # words not found in embedding index will be all-zeros.\n",
    "        embedding_matrix[i] = embedding_vector"
   ]
  },
  {
   "cell_type": "code",
   "execution_count": 32,
   "metadata": {},
   "outputs": [],
   "source": [
    "embedding_layer = Embedding(num_words,\n",
    "                            EMBEDDING_DIM,\n",
    "                            embeddings_initializer=Constant(embedding_matrix),\n",
    "                            input_length=MAX_SEQUENCE_LENGTH,\n",
    "                            trainable=False)"
   ]
  },
  {
   "cell_type": "code",
   "execution_count": 43,
   "metadata": {},
   "outputs": [],
   "source": [
    "rglrzr = regularizers.l2(0.0015)"
   ]
  },
  {
   "cell_type": "code",
   "execution_count": 44,
   "metadata": {},
   "outputs": [
    {
     "name": "stdout",
     "output_type": "stream",
     "text": [
      "_________________________________________________________________\n",
      "Layer (type)                 Output Shape              Param #   \n",
      "=================================================================\n",
      "embedding_2 (Embedding)      (None, 150, 100)          371100    \n",
      "_________________________________________________________________\n",
      "lstm_6 (LSTM)                (None, 150)               150600    \n",
      "_________________________________________________________________\n",
      "dense_8 (Dense)              (None, 3)                 453       \n",
      "=================================================================\n",
      "Total params: 522,153\n",
      "Trainable params: 151,053\n",
      "Non-trainable params: 371,100\n",
      "_________________________________________________________________\n",
      "Train on 466 samples, validate on 156 samples\n",
      "Epoch 1/25\n",
      "466/466 [==============================] - 4s 8ms/step - loss: 1.2254 - acc: 0.5021 - val_loss: 1.0697 - val_acc: 0.5833\n",
      "Epoch 2/25\n",
      "466/466 [==============================] - 2s 5ms/step - loss: 1.0961 - acc: 0.5451 - val_loss: 1.0297 - val_acc: 0.5962\n",
      "Epoch 3/25\n",
      "466/466 [==============================] - 2s 5ms/step - loss: 1.0979 - acc: 0.5258 - val_loss: 1.0200 - val_acc: 0.6090\n",
      "Epoch 4/25\n",
      "466/466 [==============================] - 2s 4ms/step - loss: 1.0297 - acc: 0.5966 - val_loss: 1.0212 - val_acc: 0.5641\n",
      "Epoch 5/25\n",
      "466/466 [==============================] - 2s 5ms/step - loss: 1.0089 - acc: 0.5966 - val_loss: 0.9607 - val_acc: 0.6538\n",
      "Epoch 6/25\n",
      "466/466 [==============================] - 2s 5ms/step - loss: 0.9875 - acc: 0.5794 - val_loss: 0.9508 - val_acc: 0.6218\n",
      "Epoch 7/25\n",
      "466/466 [==============================] - 2s 5ms/step - loss: 0.9741 - acc: 0.5901 - val_loss: 0.9318 - val_acc: 0.6282\n",
      "Epoch 8/25\n",
      "466/466 [==============================] - 2s 5ms/step - loss: 0.9271 - acc: 0.5987 - val_loss: 0.9308 - val_acc: 0.6410\n",
      "Epoch 9/25\n",
      "466/466 [==============================] - 2s 5ms/step - loss: 0.8910 - acc: 0.6416 - val_loss: 0.9326 - val_acc: 0.6154\n",
      "Epoch 10/25\n",
      "466/466 [==============================] - 2s 5ms/step - loss: 0.8496 - acc: 0.6781 - val_loss: 1.1352 - val_acc: 0.4423\n",
      "Epoch 11/25\n",
      "466/466 [==============================] - 2s 5ms/step - loss: 0.8821 - acc: 0.6137 - val_loss: 0.9501 - val_acc: 0.6090\n",
      "Epoch 12/25\n",
      "466/466 [==============================] - 3s 6ms/step - loss: 0.8230 - acc: 0.6760 - val_loss: 0.9282 - val_acc: 0.6090\n",
      "Epoch 13/25\n",
      "466/466 [==============================] - 2s 5ms/step - loss: 0.8260 - acc: 0.6717 - val_loss: 0.8974 - val_acc: 0.6090\n",
      "Epoch 14/25\n",
      "466/466 [==============================] - 2s 5ms/step - loss: 0.7691 - acc: 0.6953 - val_loss: 0.9465 - val_acc: 0.5962\n",
      "Epoch 15/25\n",
      "466/466 [==============================] - 2s 5ms/step - loss: 0.8123 - acc: 0.6910 - val_loss: 0.9325 - val_acc: 0.5962\n",
      "Epoch 16/25\n",
      "466/466 [==============================] - 2s 5ms/step - loss: 0.7234 - acc: 0.7403 - val_loss: 0.9833 - val_acc: 0.5256\n",
      "Epoch 17/25\n",
      "466/466 [==============================] - 2s 4ms/step - loss: 0.6753 - acc: 0.7468 - val_loss: 0.9190 - val_acc: 0.5577\n",
      "Epoch 18/25\n",
      "466/466 [==============================] - 2s 4ms/step - loss: 0.7140 - acc: 0.7210 - val_loss: 1.0818 - val_acc: 0.4872\n",
      "Epoch 19/25\n",
      "466/466 [==============================] - 2s 4ms/step - loss: 0.7159 - acc: 0.7425 - val_loss: 0.9330 - val_acc: 0.5962\n",
      "Epoch 20/25\n",
      "466/466 [==============================] - 3s 5ms/step - loss: 0.5929 - acc: 0.8348 - val_loss: 1.0160 - val_acc: 0.5128\n",
      "Epoch 21/25\n",
      "466/466 [==============================] - 2s 5ms/step - loss: 0.6333 - acc: 0.7897 - val_loss: 0.9963 - val_acc: 0.6282\n",
      "Epoch 22/25\n",
      "466/466 [==============================] - 2s 5ms/step - loss: 0.6100 - acc: 0.7897 - val_loss: 1.0378 - val_acc: 0.6026\n",
      "Epoch 23/25\n",
      "466/466 [==============================] - 2s 4ms/step - loss: 0.5659 - acc: 0.8176 - val_loss: 1.0845 - val_acc: 0.5513\n",
      "Epoch 24/25\n",
      "466/466 [==============================] - 2s 4ms/step - loss: 0.5311 - acc: 0.8498 - val_loss: 1.0113 - val_acc: 0.5962\n",
      "Epoch 25/25\n",
      "466/466 [==============================] - 2s 4ms/step - loss: 0.5339 - acc: 0.8090 - val_loss: 1.2795 - val_acc: 0.5321\n"
     ]
    }
   ],
   "source": [
    "model = Sequential()\n",
    "model.add(embedding_layer)\n",
    "model.add(LSTM(150,recurrent_regularizer=rglrzr))\n",
    "model.add(Dense(3,activation='softmax'))\n",
    "model.summary()\n",
    "model.compile(loss='categorical_crossentropy',\n",
    "              optimizer='rmsprop',\n",
    "              metrics=['acc'])\n",
    "\n",
    "history=model.fit(x_train, y_train,\n",
    "          batch_size=128,\n",
    "          epochs=25,\n",
    "          validation_data=(x_test, y_test))"
   ]
  },
  {
   "cell_type": "code",
   "execution_count": 45,
   "metadata": {},
   "outputs": [],
   "source": [
    "y_pred = model.predict(x_test)\n",
    "def maxpos(li):\n",
    "    if li[0]>li[1] and li[0]>li[2] :\n",
    "        return 0\n",
    "    if li[1]>li[2] and li[1]>li[0] :\n",
    "        return 1\n",
    "    return 2\n",
    "y_pre=[maxpos(y) for y in y_pred]\n",
    "y_tes=[maxpos(y) for y in y_test]"
   ]
  },
  {
   "cell_type": "code",
   "execution_count": 46,
   "metadata": {},
   "outputs": [
    {
     "data": {
      "text/plain": [
       "array([[61, 23,  2],\n",
       "       [36, 22,  1],\n",
       "       [ 7,  4,  0]], dtype=int64)"
      ]
     },
     "execution_count": 46,
     "metadata": {},
     "output_type": "execute_result"
    }
   ],
   "source": [
    "confusion_matrix(y_true=y_tes,y_pred=y_pre)"
   ]
  },
  {
   "cell_type": "code",
   "execution_count": 47,
   "metadata": {},
   "outputs": [
    {
     "data": {
      "image/png": "[encoded data removed]",
      "text/plain": [
       "<Figure size 432x288 with 1 Axes>"
      ]
     },
     "metadata": {},
     "output_type": "display_data"
    },
    {
     "data": {
      "image/png": "[encoded data removed]",
      "text/plain": [
       "<Figure size 432x288 with 1 Axes>"
      ]
     },
     "metadata": {},
     "output_type": "display_data"
    }
   ],
   "source": [
    "# Plot training & validation accuracy values\n",
    "plt.plot(history.history['acc'])\n",
    "plt.plot(history.history['val_acc'])\n",
    "plt.title('Model accuracy')\n",
    "plt.ylabel('Accuracy')\n",
    "plt.xlabel('Epoch')\n",
    "plt.legend(['Train', 'Test'], loc='upper left')\n",
    "plt.show()\n",
    "\n",
    "# Plot training & validation loss values\n",
    "plt.plot(history.history['loss'])\n",
    "plt.plot(history.history['val_loss'])\n",
    "plt.title('Model loss')\n",
    "plt.ylabel('Loss')\n",
    "plt.xlabel('Epoch')\n",
    "plt.legend(['Train', 'Test'], loc='upper left')\n",
    "plt.show()"
   ]
  },
  {
   "cell_type": "code",
   "execution_count": null,
   "metadata": {},
   "outputs": [],
   "source": []
  }
 ],
 "metadata": {
  "kernelspec": {
   "display_name": "Python 3",
   "language": "python",
   "name": "python3"
  },
  "language_info": {
   "codemirror_mode": {
    "name": "ipython",
    "version": 3
   },
   "file_extension": ".py",
   "mimetype": "text/x-python",
   "name": "python",
   "nbconvert_exporter": "python",
   "pygments_lexer": "ipython3",
   "version": "3.6.5"
  }
 },
 "nbformat": 4,
 "nbformat_minor": 2
}
