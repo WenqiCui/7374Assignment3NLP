{
 "cells": [
  {
   "cell_type": "code",
   "execution_count": 1,
   "metadata": {},
   "outputs": [
    {
     "name": "stderr",
     "output_type": "stream",
     "text": [
      "C:\\Users\\wenqi\\Anaconda3\\lib\\site-packages\\h5py\\__init__.py:36: FutureWarning: Conversion of the second argument of issubdtype from `float` to `np.floating` is deprecated. In future, it will be treated as `np.float64 == np.dtype(float).type`.\n",
      "  from ._conv import register_converters as _register_converters\n",
      "Using TensorFlow backend.\n"
     ]
    }
   ],
   "source": [
    "'''This script loads pre-trained word embeddings (GloVe embeddings)\n",
    "into a frozen Keras Embedding layer, and uses it to\n",
    "train a text classification model on the 20 Newsgroup dataset\n",
    "(classification of newsgroup messages into 20 different categories).\n",
    "GloVe embedding data can be found at:\n",
    "http://nlp.stanford.edu/data/glove.6B.zip\n",
    "(source page: http://nlp.stanford.edu/projects/glove/)\n",
    "'''\n",
    "\n",
    "from __future__ import print_function\n",
    "\n",
    "import os\n",
    "import sys\n",
    "import numpy as np\n",
    "import json\n",
    "from keras.preprocessing.text import Tokenizer\n",
    "from keras.preprocessing.sequence import pad_sequences\n",
    "from keras.utils import to_categorical\n",
    "from keras.layers import Dense, Input, GlobalMaxPooling1D,LSTM\n",
    "from keras.layers import Conv1D, MaxPooling1D, Embedding,SimpleRNN\n",
    "from keras.models import Model,Sequential\n",
    "from keras.initializers import Constant\n",
    "from sklearn.model_selection import train_test_split\n",
    "import matplotlib.pyplot as plt\n",
    "from sklearn.metrics import confusion_matrix\n",
    "from keras import regularizers\n",
    "from pandas_ml import ConfusionMatrix\n",
    "from sklearn.metrics import accuracy_score"
   ]
  },
  {
   "cell_type": "code",
   "execution_count": 2,
   "metadata": {},
   "outputs": [],
   "source": [
    "BASE_DIR = ''\n",
    "GLOVE_DIR = os.path.join(BASE_DIR, 'glove.6B')\n",
    "TEXT_DATA_DIR = os.path.join(BASE_DIR, '20_newsgroup')\n",
    "MAX_SEQUENCE_LENGTH = 150\n",
    "MAX_NUM_WORDS = 20000\n",
    "EMBEDDING_DIM = 100\n",
    "VALIDATION_SPLIT = 0.2\n"
   ]
  },
  {
   "cell_type": "code",
   "execution_count": 3,
   "metadata": {},
   "outputs": [
    {
     "name": "stdout",
     "output_type": "stream",
     "text": [
      "Indexing word vectors.\n",
      "Found 400000 word vectors.\n"
     ]
    }
   ],
   "source": [
    "\n",
    "\n",
    "# first, build index mapping words in the embeddings set\n",
    "# to their embedding vector\n",
    "\n",
    "print('Indexing word vectors.')\n",
    "\n",
    "embeddings_index = {}\n",
    "with open(os.path.join(GLOVE_DIR, 'glove.6B.100d.txt'),encoding='utf-8') as f:\n",
    "    \n",
    "    for line in f:\n",
    "        values = line.split()\n",
    "        word = values[0]\n",
    "        coefs = np.asarray(values[1:], dtype='float32')\n",
    "        embeddings_index[word] = coefs\n",
    "\n",
    "print('Found %s word vectors.' % len(embeddings_index))\n"
   ]
  },
  {
   "cell_type": "code",
   "execution_count": 4,
   "metadata": {},
   "outputs": [],
   "source": [
    "file_list = os.listdir('data')\n",
    "file_list\n",
    "X=[]\n",
    "Y=[]\n",
    "for file in file_list:\n",
    "    with open('data/'+file,'r') as f:\n",
    "        d = json.load(f)\n",
    "        X.extend(d['text'].values())\n",
    "        Y.extend(d['sentiment'].values())"
   ]
  },
  {
   "cell_type": "code",
   "execution_count": 5,
   "metadata": {},
   "outputs": [
    {
     "name": "stdout",
     "output_type": "stream",
     "text": [
      "Found 3710 unique tokens.\n"
     ]
    }
   ],
   "source": [
    "# finally, vectorize the text samples into a 2D integer tensor\n",
    "tokenizer = Tokenizer(num_words=MAX_NUM_WORDS)\n",
    "tokenizer.fit_on_texts(X)\n",
    "sequences = tokenizer.texts_to_sequences(X)\n",
    "\n",
    "word_index = tokenizer.word_index\n",
    "print('Found %s unique tokens.' % len(word_index))"
   ]
  },
  {
   "cell_type": "code",
   "execution_count": 6,
   "metadata": {},
   "outputs": [],
   "source": [
    "X = pad_sequences(sequences, maxlen=MAX_SEQUENCE_LENGTH)"
   ]
  },
  {
   "cell_type": "code",
   "execution_count": 7,
   "metadata": {},
   "outputs": [],
   "source": [
    "tokenizer=Tokenizer()\n",
    "\n",
    "tokenizer.fit_on_texts(Y)\n",
    "\n",
    "Y = tokenizer.texts_to_matrix(Y)\n",
    "\n",
    "Y = np.asarray([a[1:] for a in Y])"
   ]
  },
  {
   "cell_type": "code",
   "execution_count": 8,
   "metadata": {},
   "outputs": [
    {
     "name": "stdout",
     "output_type": "stream",
     "text": [
      "Shape of data tensor: (622, 150)\n",
      "Shape of label tensor: (622, 3)\n"
     ]
    }
   ],
   "source": [
    "print('Shape of data tensor:', X.shape)\n",
    "print('Shape of label tensor:', Y.shape)"
   ]
  },
  {
   "cell_type": "code",
   "execution_count": 9,
   "metadata": {},
   "outputs": [],
   "source": [
    "(x_train,x_test,y_train,y_test)=train_test_split(X,Y,random_state=42)"
   ]
  },
  {
   "cell_type": "code",
   "execution_count": 10,
   "metadata": {},
   "outputs": [],
   "source": [
    "# prepare embedding matrix\n",
    "num_words = min(MAX_NUM_WORDS, len(word_index)) + 1\n",
    "embedding_matrix = np.zeros((num_words, EMBEDDING_DIM))\n",
    "for word, i in word_index.items():\n",
    "    if i > MAX_NUM_WORDS:\n",
    "        continue\n",
    "    embedding_vector = embeddings_index.get(word)\n",
    "    if embedding_vector is not None:\n",
    "        # words not found in embedding index will be all-zeros.\n",
    "        embedding_matrix[i] = embedding_vector"
   ]
  },
  {
   "cell_type": "code",
   "execution_count": 11,
   "metadata": {},
   "outputs": [],
   "source": [
    "embedding_layer = Embedding(num_words,\n",
    "                            EMBEDDING_DIM,\n",
    "                            embeddings_initializer=Constant(embedding_matrix),\n",
    "                            input_length=MAX_SEQUENCE_LENGTH,\n",
    "                            trainable=False)"
   ]
  },
  {
   "cell_type": "code",
   "execution_count": 12,
   "metadata": {},
   "outputs": [],
   "source": [
    "rglrzr = regularizers.l2(0.0015)"
   ]
  },
  {
   "cell_type": "code",
   "execution_count": 13,
   "metadata": {},
   "outputs": [
    {
     "name": "stdout",
     "output_type": "stream",
     "text": [
      "_________________________________________________________________\n",
      "Layer (type)                 Output Shape              Param #   \n",
      "=================================================================\n",
      "embedding_1 (Embedding)      (None, 150, 100)          371100    \n",
      "_________________________________________________________________\n",
      "lstm_1 (LSTM)                (None, 150)               150600    \n",
      "_________________________________________________________________\n",
      "dense_1 (Dense)              (None, 3)                 453       \n",
      "=================================================================\n",
      "Total params: 522,153\n",
      "Trainable params: 151,053\n",
      "Non-trainable params: 371,100\n",
      "_________________________________________________________________\n",
      "Train on 466 samples, validate on 156 samples\n",
      "Epoch 1/25\n",
      "466/466 [==============================] - 3s 7ms/step - loss: 1.2893 - acc: 0.4292 - val_loss: 1.1167 - val_acc: 0.4423\n",
      "Epoch 2/25\n",
      "466/466 [==============================] - 2s 4ms/step - loss: 1.1336 - acc: 0.5215 - val_loss: 1.0797 - val_acc: 0.4487\n",
      "Epoch 3/25\n",
      "466/466 [==============================] - 2s 4ms/step - loss: 1.0952 - acc: 0.5494 - val_loss: 1.0180 - val_acc: 0.6090\n",
      "Epoch 4/25\n",
      "466/466 [==============================] - 2s 4ms/step - loss: 1.0484 - acc: 0.6030 - val_loss: 0.9726 - val_acc: 0.6410\n",
      "Epoch 5/25\n",
      "466/466 [==============================] - 2s 5ms/step - loss: 1.1043 - acc: 0.5258 - val_loss: 0.9754 - val_acc: 0.6218\n",
      "Epoch 6/25\n",
      "466/466 [==============================] - 2s 5ms/step - loss: 1.0028 - acc: 0.6030 - val_loss: 0.9749 - val_acc: 0.6218\n",
      "Epoch 7/25\n",
      "466/466 [==============================] - 2s 4ms/step - loss: 0.9863 - acc: 0.6073 - val_loss: 0.9649 - val_acc: 0.6090\n",
      "Epoch 8/25\n",
      "466/466 [==============================] - 2s 5ms/step - loss: 0.9629 - acc: 0.6245 - val_loss: 1.0055 - val_acc: 0.5897\n",
      "Epoch 9/25\n",
      "466/466 [==============================] - 2s 4ms/step - loss: 0.9693 - acc: 0.6202 - val_loss: 0.9570 - val_acc: 0.6154\n",
      "Epoch 10/25\n",
      "466/466 [==============================] - 2s 4ms/step - loss: 0.9177 - acc: 0.6223 - val_loss: 0.9225 - val_acc: 0.6154\n",
      "Epoch 11/25\n",
      "466/466 [==============================] - 2s 4ms/step - loss: 0.9283 - acc: 0.5944 - val_loss: 0.9088 - val_acc: 0.6346\n",
      "Epoch 12/25\n",
      "466/466 [==============================] - 2s 4ms/step - loss: 0.8696 - acc: 0.6631 - val_loss: 0.9137 - val_acc: 0.6218\n",
      "Epoch 13/25\n",
      "466/466 [==============================] - 2s 4ms/step - loss: 0.9704 - acc: 0.5858 - val_loss: 0.9030 - val_acc: 0.6346\n",
      "Epoch 14/25\n",
      "466/466 [==============================] - 2s 4ms/step - loss: 0.8551 - acc: 0.6502 - val_loss: 0.9090 - val_acc: 0.6346\n",
      "Epoch 15/25\n",
      "466/466 [==============================] - 2s 4ms/step - loss: 0.8205 - acc: 0.6760 - val_loss: 0.9697 - val_acc: 0.5449\n",
      "Epoch 16/25\n",
      "466/466 [==============================] - 2s 5ms/step - loss: 0.8185 - acc: 0.6974 - val_loss: 0.9540 - val_acc: 0.5513\n",
      "Epoch 17/25\n",
      "466/466 [==============================] - 2s 4ms/step - loss: 0.8470 - acc: 0.6631 - val_loss: 0.8686 - val_acc: 0.6667\n",
      "Epoch 18/25\n",
      "466/466 [==============================] - 2s 4ms/step - loss: 0.7617 - acc: 0.7210 - val_loss: 0.8713 - val_acc: 0.6218\n",
      "Epoch 19/25\n",
      "466/466 [==============================] - 2s 5ms/step - loss: 0.7519 - acc: 0.7103 - val_loss: 0.9636 - val_acc: 0.5321\n",
      "Epoch 20/25\n",
      "466/466 [==============================] - 2s 4ms/step - loss: 0.7696 - acc: 0.6996 - val_loss: 0.8875 - val_acc: 0.5769\n",
      "Epoch 21/25\n",
      "466/466 [==============================] - 2s 5ms/step - loss: 0.7230 - acc: 0.7189 - val_loss: 0.9702 - val_acc: 0.6154\n",
      "Epoch 22/25\n",
      "466/466 [==============================] - 2s 4ms/step - loss: 0.7549 - acc: 0.7232 - val_loss: 0.8860 - val_acc: 0.6282\n",
      "Epoch 23/25\n",
      "466/466 [==============================] - 2s 4ms/step - loss: 0.7062 - acc: 0.7575 - val_loss: 0.8514 - val_acc: 0.6731\n",
      "Epoch 24/25\n",
      "466/466 [==============================] - 2s 4ms/step - loss: 0.6280 - acc: 0.7961 - val_loss: 0.9953 - val_acc: 0.6154\n",
      "Epoch 25/25\n",
      "466/466 [==============================] - 2s 4ms/step - loss: 0.7743 - acc: 0.6738 - val_loss: 0.9148 - val_acc: 0.6410\n"
     ]
    }
   ],
   "source": [
    "model = Sequential()\n",
    "model.add(embedding_layer)\n",
    "model.add(LSTM(150,recurrent_regularizer=rglrzr))\n",
    "model.add(Dense(3,activation='softmax'))\n",
    "model.summary()\n",
    "model.compile(loss='categorical_crossentropy',\n",
    "              optimizer='rmsprop',\n",
    "              metrics=['acc'])\n",
    "\n",
    "history=model.fit(x_train, y_train,\n",
    "          batch_size=128,\n",
    "          epochs=25,\n",
    "          validation_data=(x_test, y_test))"
   ]
  },
  {
   "cell_type": "code",
   "execution_count": 14,
   "metadata": {},
   "outputs": [],
   "source": [
    "y_pred = model.predict(x_test)\n",
    "def maxpos(li):\n",
    "    if li[0]>li[1] and li[0]>li[2] :\n",
    "        return 'positive'\n",
    "    if li[1]>li[2] and li[1]>li[0] :\n",
    "        return 'neutral'\n",
    "    return 'negative'\n",
    "y_pre=[maxpos(y) for y in y_pred]\n",
    "y_tes=[maxpos(y) for y in y_test]"
   ]
  },
  {
   "cell_type": "code",
   "execution_count": 15,
   "metadata": {},
   "outputs": [
    {
     "data": {
      "text/plain": [
       "array([[ 3,  2,  6],\n",
       "       [ 3, 32, 24],\n",
       "       [ 6, 15, 65]], dtype=int64)"
      ]
     },
     "execution_count": 15,
     "metadata": {},
     "output_type": "execute_result"
    }
   ],
   "source": [
    "confusion_matrix(y_true=y_tes,y_pred=y_pre)"
   ]
  },
  {
   "cell_type": "code",
   "execution_count": 16,
   "metadata": {},
   "outputs": [
    {
     "name": "stdout",
     "output_type": "stream",
     "text": [
      "Accuracy Score:  0.6410256410256411\n",
      "Predicted  negative  neutral  positive  __all__\n",
      "Actual                                         \n",
      "negative          3        2         6       11\n",
      "neutral           3       32        24       59\n",
      "positive          6       15        65       86\n",
      "__all__          12       49        95      156\n"
     ]
    },
    {
     "data": {
      "image/png": "[encoded data removed]",
      "text/plain": [
       "<Figure size 648x576 with 2 Axes>"
      ]
     },
     "metadata": {},
     "output_type": "display_data"
    }
   ],
   "source": [
    "cnf_matrix = ConfusionMatrix(y_tes, y_pre)\n",
    "acc_score = accuracy_score(y_tes, y_pre)\n",
    "\n",
    "\n",
    "print('Accuracy Score: ', acc_score)\n",
    "\n",
    "print(cnf_matrix)\n",
    "\n",
    "cnf_matrix.plot()\n",
    "plt.show()"
   ]
  },
  {
   "cell_type": "code",
   "execution_count": 17,
   "metadata": {},
   "outputs": [
    {
     "data": {
      "image/png": "[encoded data removed]",
      "text/plain": [
       "<Figure size 432x288 with 1 Axes>"
      ]
     },
     "metadata": {},
     "output_type": "display_data"
    },
    {
     "data": {
      "image/png": "[encoded data removed]",
      "text/plain": [
       "<Figure size 432x288 with 1 Axes>"
      ]
     },
     "metadata": {},
     "output_type": "display_data"
    }
   ],
   "source": [
    "# Plot training & validation accuracy values\n",
    "plt.plot(history.history['acc'])\n",
    "plt.plot(history.history['val_acc'])\n",
    "plt.title('Model accuracy')\n",
    "plt.ylabel('Accuracy')\n",
    "plt.xlabel('Epoch')\n",
    "plt.legend(['Train', 'Test'], loc='upper left')\n",
    "plt.show()\n",
    "\n",
    "# Plot training & validation loss values\n",
    "plt.plot(history.history['loss'])\n",
    "plt.plot(history.history['val_loss'])\n",
    "plt.title('Model loss')\n",
    "plt.ylabel('Loss')\n",
    "plt.xlabel('Epoch')\n",
    "plt.legend(['Train', 'Test'], loc='upper left')\n",
    "plt.show()"
   ]
  },
  {
   "cell_type": "code",
   "execution_count": null,
   "metadata": {},
   "outputs": [],
   "source": []
  }
 ],
 "metadata": {
  "kernelspec": {
   "display_name": "Python 3",
   "language": "python",
   "name": "python3"
  },
  "language_info": {
   "codemirror_mode": {
    "name": "ipython",
    "version": 3
   },
   "file_extension": ".py",
   "mimetype": "text/x-python",
   "name": "python",
   "nbconvert_exporter": "python",
   "pygments_lexer": "ipython3",
   "version": "3.6.5"
  }
 },
 "nbformat": 4,
 "nbformat_minor": 2
}
