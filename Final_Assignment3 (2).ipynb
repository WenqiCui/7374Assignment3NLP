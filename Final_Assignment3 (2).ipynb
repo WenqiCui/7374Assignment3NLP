{
 "cells": [
  {
   "cell_type": "markdown",
   "metadata": {
    "colab_type": "text",
    "id": "EPTaQJEeZ91K"
   },
   "source": [
    "#Validating Configuration Data:\n"
   ]
  },
  {
   "cell_type": "markdown",
   "metadata": {
    "colab_type": "text",
    "id": "2h4BfT7E5cDO"
   },
   "source": [
    "This Program needed compete Dataset file, Configuration file and Google API key file in Json format."
   ]
  },
  {
   "cell_type": "code",
   "execution_count": 0,
   "metadata": {
    "colab": {},
    "colab_type": "code",
    "id": "I0numyPkaBv7"
   },
   "outputs": [],
   "source": [
    "#Reading configuration file and validating all API keys\n",
    "\n",
    "import json"
   ]
  },
  {
   "cell_type": "code",
   "execution_count": 0,
   "metadata": {
    "colab": {},
    "colab_type": "code",
    "id": "uOidcL4EaGMb"
   },
   "outputs": [],
   "source": [
    "with open('config.json','r') as f:\n",
    "    config_data = f.read()\n",
    "\n",
    "config = json.loads(config_data)"
   ]
  },
  {
   "cell_type": "code",
   "execution_count": 4,
   "metadata": {
    "colab": {
     "base_uri": "https://localhost:8080/",
     "height": 292
    },
    "colab_type": "code",
    "id": "sjJUHgGxaKNT",
    "outputId": "6cb59760-7b2c-4feb-93dd-30c9ddc776b9"
   },
   "outputs": [
    {
     "name": "stdout",
     "output_type": "stream",
     "text": [
      "Collecting botocore\n",
      "\u001b[?25l  Downloading https://files.pythonhosted.org/packages/d6/be/da181a69e355ec61224de70d2afd306d723834adf2af98ee163975cf8357/botocore-1.12.55-py2.py3-none-any.whl (5.1MB)\n",
      "\u001b[K    100% |████████████████████████████████| 5.1MB 7.5MB/s \n",
      "\u001b[?25hCollecting docutils>=0.10 (from botocore)\n",
      "\u001b[?25l  Downloading https://files.pythonhosted.org/packages/36/fa/08e9e6e0e3cbd1d362c3bbee8d01d0aedb2155c4ac112b19ef3cae8eed8d/docutils-0.14-py3-none-any.whl (543kB)\n",
      "\u001b[K    100% |████████████████████████████████| 552kB 24.7MB/s \n",
      "\u001b[?25hRequirement already satisfied: python-dateutil<3.0.0,>=2.1; python_version >= \"2.7\" in /usr/local/lib/python3.6/dist-packages (from botocore) (2.5.3)\n",
      "Collecting jmespath<1.0.0,>=0.7.1 (from botocore)\n",
      "  Downloading https://files.pythonhosted.org/packages/b7/31/05c8d001f7f87f0f07289a5fc0fc3832e9a57f2dbd4d3b0fee70e0d51365/jmespath-0.9.3-py2.py3-none-any.whl\n",
      "Requirement already satisfied: urllib3<1.25,>=1.20; python_version >= \"3.4\" in /usr/local/lib/python3.6/dist-packages (from botocore) (1.22)\n",
      "Requirement already satisfied: six>=1.5 in /usr/local/lib/python3.6/dist-packages (from python-dateutil<3.0.0,>=2.1; python_version >= \"2.7\"->botocore) (1.11.0)\n",
      "Installing collected packages: docutils, jmespath, botocore\n",
      "Successfully installed botocore-1.12.55 docutils-0.14 jmespath-0.9.3\n",
      "AWS Credentials are valid!\n"
     ]
    }
   ],
   "source": [
    "#Validating AWS Credentials\n",
    "!pip install botocore\n",
    "import botocore.session\n",
    "\n",
    "access_key = config['AWS Access Keys']\n",
    "secret_access_key = config['AWS Secret Keys']\n",
    "\n",
    "session = botocore.session.get_session()\n",
    "\n",
    "sts = session.create_client('sts', aws_access_key_id=access_key,aws_secret_access_key=secret_access_key)\n",
    "\n",
    "response = sts.get_caller_identity()\n",
    "\n",
    "if response['ResponseMetadata']['HTTPStatusCode'] == 200:\n",
    "    print('AWS Credentials are valid!')\n",
    "    #Proceed to next validation\n",
    "else:\n",
    "    print('AWS Credentials are Invalid')\n",
    "    #Exit code"
   ]
  },
  {
   "cell_type": "code",
   "execution_count": 6,
   "metadata": {
    "colab": {
     "base_uri": "https://localhost:8080/",
     "height": 35
    },
    "colab_type": "code",
    "id": "nvtfUHtRauXx",
    "outputId": "a91bcc5b-5371-4870-86e8-bcb891600f7d"
   },
   "outputs": [
    {
     "name": "stdout",
     "output_type": "stream",
     "text": [
      "Microsoft Keys are valid!\n"
     ]
    }
   ],
   "source": [
    "#Validating Microsoft Azure API connections\n",
    "from http.client import HTTPSConnection\n",
    "\n",
    "\n",
    "uri = config['MS Azure Region']+'.api.cognitive.microsoft.com'\n",
    "accessKey = config['MS Azure Access Keys']\n",
    "\n",
    "test_doc = {'documents' : [\n",
    "  {'id': '1', 'language': 'en', 'text': 'This is test data!'}\n",
    "]}\n",
    "\n",
    "def GetSentiment (documents):\n",
    "    path = '/text/analytics/v2.0/sentiment'\n",
    "    \n",
    "    headers = {'Ocp-Apim-Subscription-Key': accessKey}\n",
    "    conn = HTTPSConnection (uri)\n",
    "    body = json.dumps (documents)\n",
    "    conn.request (\"POST\", path, body, headers)\n",
    "    response = conn.getresponse ()\n",
    "    return response\n",
    "\n",
    "result = GetSentiment(test_doc)\n",
    "\n",
    "if result.status == 200:\n",
    "    print('Microsoft Keys are valid!')\n",
    "    #Proceed with other validation\n",
    "else :\n",
    "    print('Microsoft Keys are Invalid!')\n",
    "    #Exit code"
   ]
  },
  {
   "cell_type": "code",
   "execution_count": 10,
   "metadata": {
    "colab": {
     "base_uri": "https://localhost:8080/",
     "height": 219
    },
    "colab_type": "code",
    "id": "K1miX1IJa-27",
    "outputId": "7ccf5b55-7496-4cc7-ae5b-d860743b795d"
   },
   "outputs": [
    {
     "name": "stdout",
     "output_type": "stream",
     "text": [
      "Requirement already satisfied: watson_developer_cloud in /usr/local/lib/python3.6/dist-packages (2.4.4)\n",
      "Requirement already satisfied: python-dateutil>=2.5.3 in /usr/local/lib/python3.6/dist-packages (from watson_developer_cloud) (2.5.3)\n",
      "Requirement already satisfied: websocket-client==0.47.0 in /usr/local/lib/python3.6/dist-packages (from watson_developer_cloud) (0.47.0)\n",
      "Requirement already satisfied: requests<3.0,>=2.0 in /usr/local/lib/python3.6/dist-packages (from watson_developer_cloud) (2.18.4)\n",
      "Requirement already satisfied: six>=1.5 in /usr/local/lib/python3.6/dist-packages (from python-dateutil>=2.5.3->watson_developer_cloud) (1.11.0)\n",
      "Requirement already satisfied: idna<2.7,>=2.5 in /usr/local/lib/python3.6/dist-packages (from requests<3.0,>=2.0->watson_developer_cloud) (2.6)\n",
      "Requirement already satisfied: urllib3<1.23,>=1.21.1 in /usr/local/lib/python3.6/dist-packages (from requests<3.0,>=2.0->watson_developer_cloud) (1.22)\n",
      "Requirement already satisfied: chardet<3.1.0,>=3.0.2 in /usr/local/lib/python3.6/dist-packages (from requests<3.0,>=2.0->watson_developer_cloud) (3.0.4)\n",
      "Requirement already satisfied: certifi>=2017.4.17 in /usr/local/lib/python3.6/dist-packages (from requests<3.0,>=2.0->watson_developer_cloud) (2018.10.15)\n",
      "IBM keys are valid!\n"
     ]
    }
   ],
   "source": [
    "#Validating IBM API keys\n",
    "\n",
    "#Introducing IBM API:\n",
    "!pip install watson_developer_cloud\n",
    "from watson_developer_cloud import NaturalLanguageUnderstandingV1\n",
    "from watson_developer_cloud.natural_language_understanding_v1 import Features, SentimentOptions\n",
    "\n",
    "natural_language_understanding = NaturalLanguageUnderstandingV1(\n",
    "    version='2018-03-16',\n",
    "    iam_apikey=config['IBM API Key'],\n",
    "    url=config['IBM API url']\n",
    ")\n",
    "response = natural_language_understanding.analyze(\n",
    "    text='This is test text',\n",
    "    features=Features(sentiment=SentimentOptions(targets=[''])))\n",
    "\n",
    "if response.get_status_code() == 200:\n",
    "    print('IBM keys are valid!')\n",
    "    #Proceed with other validation\n",
    "else :\n",
    "    print('IBM Keys are Invalid!')\n",
    "    #Exit code"
   ]
  },
  {
   "cell_type": "code",
   "execution_count": 23,
   "metadata": {
    "colab": {
     "base_uri": "https://localhost:8080/",
     "height": 35
    },
    "colab_type": "code",
    "id": "9XjugZ7Db_pL",
    "outputId": "7376d893-d4f5-48cb-c633-9f2cf0e859e8"
   },
   "outputs": [
    {
     "name": "stdout",
     "output_type": "stream",
     "text": [
      "Google API Keys are valid!\n"
     ]
    }
   ],
   "source": [
    "#Valdating Google API Keys:\n",
    "\n",
    "from google.cloud import language\n",
    "from google.cloud.language import enums\n",
    "from google.cloud.language import types\n",
    "\n",
    "from google.oauth2 import service_account\n",
    "\n",
    "cred = service_account.Credentials.from_service_account_file('NLP-Sentiment-3ab1018e6990.json')\n",
    "\n",
    "client = language.LanguageServiceClient(credentials=cred)\n",
    "\n",
    "data = ['This is the best day of my life!']\n",
    "\n",
    "for text in data:\n",
    "  document = types.Document(\n",
    "    content=text,\n",
    "    type=enums.Document.Type.PLAIN_TEXT)\n",
    "  sentiment = client.analyze_sentiment(document=document)\n",
    "\n",
    "\n",
    "  if sentiment.language == \"en\":\n",
    "    print(\"Google API Keys are valid!\")\n",
    "  else:\n",
    "    print(\"Invalid Google API Keys!\")"
   ]
  },
  {
   "cell_type": "code",
   "execution_count": 0,
   "metadata": {
    "colab": {},
    "colab_type": "code",
    "id": "GWlfVfryd1vV"
   },
   "outputs": [],
   "source": [
    "#Here we will merge all the data from all the team to get the complete dataset with manual sentiment analysis:\n",
    "\n",
    "with open('data.json','r') as f:\n",
    "    data_all = f.read()\n",
    "    \n",
    "data = json.loads(data_all)"
   ]
  },
  {
   "cell_type": "code",
   "execution_count": 0,
   "metadata": {
    "colab": {},
    "colab_type": "code",
    "id": "-EzQHzZjdPew"
   },
   "outputs": [],
   "source": [
    "#This is the list of Text\n",
    "X = list(data['Text'].values())\n",
    "#This is the list of Manual Sentiment\n",
    "Y = list(data['Sentiment'].values())\n",
    "#This is the list for Company name\n",
    "Z = list(data['Company'].values())"
   ]
  },
  {
   "cell_type": "code",
   "execution_count": 0,
   "metadata": {
    "colab": {},
    "colab_type": "code",
    "id": "qavevnMKi8e0"
   },
   "outputs": [],
   "source": [
    "import pandas as pd"
   ]
  },
  {
   "cell_type": "code",
   "execution_count": 0,
   "metadata": {
    "colab": {},
    "colab_type": "code",
    "id": "qg79laHAkZNB"
   },
   "outputs": [],
   "source": [
    "Man_Senti = pd.DataFrame({'Text':X, 'Sentiment': Y, 'Company': Z})"
   ]
  },
  {
   "cell_type": "code",
   "execution_count": 80,
   "metadata": {
    "colab": {
     "base_uri": "https://localhost:8080/",
     "height": 198
    },
    "colab_type": "code",
    "id": "CGCz3c6PgX7j",
    "outputId": "424c7b32-41d3-47d2-ea33-c9fab2c3050b"
   },
   "outputs": [
    {
     "data": {
      "text/html": [
       "<div>\n",
       "<style scoped>\n",
       "    .dataframe tbody tr th:only-of-type {\n",
       "        vertical-align: middle;\n",
       "    }\n",
       "\n",
       "    .dataframe tbody tr th {\n",
       "        vertical-align: top;\n",
       "    }\n",
       "\n",
       "    .dataframe thead th {\n",
       "        text-align: right;\n",
       "    }\n",
       "</style>\n",
       "<table border=\"1\" class=\"dataframe\">\n",
       "  <thead>\n",
       "    <tr style=\"text-align: right;\">\n",
       "      <th></th>\n",
       "      <th>Company</th>\n",
       "      <th>Sentiment</th>\n",
       "      <th>Text</th>\n",
       "    </tr>\n",
       "  </thead>\n",
       "  <tbody>\n",
       "    <tr>\n",
       "      <th>0</th>\n",
       "      <td>Amazon</td>\n",
       "      <td>Neutral</td>\n",
       "      <td>Amazon.com, Inc. (NASDAQ:AMZN) Q3 2018 Earning...</td>\n",
       "    </tr>\n",
       "    <tr>\n",
       "      <th>1</th>\n",
       "      <td>Amazon</td>\n",
       "      <td>Neutral</td>\n",
       "      <td>Good day, everyone, and welcome to the Amazon....</td>\n",
       "    </tr>\n",
       "    <tr>\n",
       "      <th>2</th>\n",
       "      <td>Amazon</td>\n",
       "      <td>Neutral</td>\n",
       "      <td>For opening remarks, I will be turning the cal...</td>\n",
       "    </tr>\n",
       "    <tr>\n",
       "      <th>3</th>\n",
       "      <td>Amazon</td>\n",
       "      <td>Neutral</td>\n",
       "      <td>Hello, and welcome to our Q3 2018 financial re...</td>\n",
       "    </tr>\n",
       "    <tr>\n",
       "      <th>4</th>\n",
       "      <td>Amazon</td>\n",
       "      <td>Neutral</td>\n",
       "      <td>Our comments and responses to your questions r...</td>\n",
       "    </tr>\n",
       "  </tbody>\n",
       "</table>\n",
       "</div>"
      ],
      "text/plain": [
       "  Company Sentiment                                               Text\n",
       "0  Amazon   Neutral  Amazon.com, Inc. (NASDAQ:AMZN) Q3 2018 Earning...\n",
       "1  Amazon   Neutral  Good day, everyone, and welcome to the Amazon....\n",
       "2  Amazon   Neutral  For opening remarks, I will be turning the cal...\n",
       "3  Amazon   Neutral  Hello, and welcome to our Q3 2018 financial re...\n",
       "4  Amazon   Neutral  Our comments and responses to your questions r..."
      ]
     },
     "execution_count": 80,
     "metadata": {
      "tags": []
     },
     "output_type": "execute_result"
    }
   ],
   "source": [
    "Man_Senti.head()"
   ]
  },
  {
   "cell_type": "code",
   "execution_count": 109,
   "metadata": {
    "colab": {
     "base_uri": "https://localhost:8080/",
     "height": 35
    },
    "colab_type": "code",
    "id": "xrvlbfmC3W3d",
    "outputId": "9547871f-44ee-4879-b65b-5599f2fd1039"
   },
   "outputs": [
    {
     "data": {
      "text/plain": [
       "622"
      ]
     },
     "execution_count": 109,
     "metadata": {
      "tags": []
     },
     "output_type": "execute_result"
    }
   ],
   "source": [
    "len(Man_Senti)"
   ]
  },
  {
   "cell_type": "code",
   "execution_count": 82,
   "metadata": {
    "colab": {
     "base_uri": "https://localhost:8080/",
     "height": 183
    },
    "colab_type": "code",
    "id": "kse9-lD8j0oD",
    "outputId": "b6149010-5dbe-457b-c6a4-f24d5c5a0e31"
   },
   "outputs": [
    {
     "name": "stdout",
     "output_type": "stream",
     "text": [
      "Requirement already satisfied: boto3 in /usr/local/lib/python3.6/dist-packages (1.9.55)\n",
      "Requirement already satisfied: botocore<1.13.0,>=1.12.55 in /usr/local/lib/python3.6/dist-packages (from boto3) (1.12.55)\n",
      "Requirement already satisfied: s3transfer<0.2.0,>=0.1.10 in /usr/local/lib/python3.6/dist-packages (from boto3) (0.1.13)\n",
      "Requirement already satisfied: jmespath<1.0.0,>=0.7.1 in /usr/local/lib/python3.6/dist-packages (from boto3) (0.9.3)\n",
      "Requirement already satisfied: docutils>=0.10 in /usr/local/lib/python3.6/dist-packages (from botocore<1.13.0,>=1.12.55->boto3) (0.14)\n",
      "Requirement already satisfied: urllib3<1.25,>=1.20; python_version >= \"3.4\" in /usr/local/lib/python3.6/dist-packages (from botocore<1.13.0,>=1.12.55->boto3) (1.22)\n",
      "Requirement already satisfied: python-dateutil<3.0.0,>=2.1; python_version >= \"2.7\" in /usr/local/lib/python3.6/dist-packages (from botocore<1.13.0,>=1.12.55->boto3) (2.5.3)\n",
      "Requirement already satisfied: six>=1.5 in /usr/local/lib/python3.6/dist-packages (from python-dateutil<3.0.0,>=2.1; python_version >= \"2.7\"->botocore<1.13.0,>=1.12.55->boto3) (1.11.0)\n"
     ]
    }
   ],
   "source": [
    "text = X\n",
    "\n",
    "from time import time\n",
    "!pip install boto3\n",
    "import boto3"
   ]
  },
  {
   "cell_type": "code",
   "execution_count": 0,
   "metadata": {
    "colab": {},
    "colab_type": "code",
    "id": "PE16oiv6rLNX"
   },
   "outputs": [],
   "source": [
    "#Getting sentiment using AWS API:\n",
    "\n",
    "start = time()\n",
    "\n",
    "comprehend = boto3.client(\n",
    "    'comprehend',\n",
    "    aws_access_key_id=access_key,\n",
    "    aws_secret_access_key=secret_access_key,\n",
    "    region_name='us-east-1'\n",
    ")\n",
    "\n",
    "rows = []\n",
    "i=1\n",
    "for t in text:\n",
    "  sentimentData = comprehend.detect_sentiment(Text=t, LanguageCode='en')\n",
    "  row = [i, 'AWS', sentimentData['Sentiment'],sentimentData['SentimentScore']['Negative'],sentimentData['SentimentScore']['Neutral'],sentimentData['SentimentScore']['Positive']]\n",
    "  rows.append(row)\n",
    "  i+=1\n",
    "result_aws = pd.DataFrame(rows, columns=['Text_ID', 'API', 'Overall', 'Negative', 'Neutral', 'Positive'])\n",
    "\n",
    "end = time()\n",
    "\n",
    "time_aws = end - start\n"
   ]
  },
  {
   "cell_type": "code",
   "execution_count": 151,
   "metadata": {
    "colab": {
     "base_uri": "https://localhost:8080/",
     "height": 198
    },
    "colab_type": "code",
    "id": "-PFGZE2KsgkE",
    "outputId": "431c37b3-0cf8-4885-efe2-31e256177bc8"
   },
   "outputs": [
    {
     "data": {
      "text/html": [
       "<div>\n",
       "<style scoped>\n",
       "    .dataframe tbody tr th:only-of-type {\n",
       "        vertical-align: middle;\n",
       "    }\n",
       "\n",
       "    .dataframe tbody tr th {\n",
       "        vertical-align: top;\n",
       "    }\n",
       "\n",
       "    .dataframe thead th {\n",
       "        text-align: right;\n",
       "    }\n",
       "</style>\n",
       "<table border=\"1\" class=\"dataframe\">\n",
       "  <thead>\n",
       "    <tr style=\"text-align: right;\">\n",
       "      <th></th>\n",
       "      <th>Text_ID</th>\n",
       "      <th>API</th>\n",
       "      <th>Overall</th>\n",
       "      <th>Negative</th>\n",
       "      <th>Neutral</th>\n",
       "      <th>Positive</th>\n",
       "    </tr>\n",
       "  </thead>\n",
       "  <tbody>\n",
       "    <tr>\n",
       "      <th>0</th>\n",
       "      <td>1</td>\n",
       "      <td>AWS</td>\n",
       "      <td>NEUTRAL</td>\n",
       "      <td>0.000141</td>\n",
       "      <td>0.998418</td>\n",
       "      <td>0.001304</td>\n",
       "    </tr>\n",
       "    <tr>\n",
       "      <th>1</th>\n",
       "      <td>2</td>\n",
       "      <td>AWS</td>\n",
       "      <td>POSITIVE</td>\n",
       "      <td>0.003760</td>\n",
       "      <td>0.487941</td>\n",
       "      <td>0.495716</td>\n",
       "    </tr>\n",
       "    <tr>\n",
       "      <th>2</th>\n",
       "      <td>3</td>\n",
       "      <td>AWS</td>\n",
       "      <td>NEUTRAL</td>\n",
       "      <td>0.007338</td>\n",
       "      <td>0.976732</td>\n",
       "      <td>0.012431</td>\n",
       "    </tr>\n",
       "    <tr>\n",
       "      <th>3</th>\n",
       "      <td>4</td>\n",
       "      <td>AWS</td>\n",
       "      <td>NEUTRAL</td>\n",
       "      <td>0.000654</td>\n",
       "      <td>0.686703</td>\n",
       "      <td>0.305323</td>\n",
       "    </tr>\n",
       "    <tr>\n",
       "      <th>4</th>\n",
       "      <td>5</td>\n",
       "      <td>AWS</td>\n",
       "      <td>NEUTRAL</td>\n",
       "      <td>0.002042</td>\n",
       "      <td>0.996204</td>\n",
       "      <td>0.001183</td>\n",
       "    </tr>\n",
       "  </tbody>\n",
       "</table>\n",
       "</div>"
      ],
      "text/plain": [
       "   Text_ID  API   Overall  Negative   Neutral  Positive\n",
       "0        1  AWS   NEUTRAL  0.000141  0.998418  0.001304\n",
       "1        2  AWS  POSITIVE  0.003760  0.487941  0.495716\n",
       "2        3  AWS   NEUTRAL  0.007338  0.976732  0.012431\n",
       "3        4  AWS   NEUTRAL  0.000654  0.686703  0.305323\n",
       "4        5  AWS   NEUTRAL  0.002042  0.996204  0.001183"
      ]
     },
     "execution_count": 151,
     "metadata": {
      "tags": []
     },
     "output_type": "execute_result"
    }
   ],
   "source": [
    "#AWS Sentiment \n",
    "result_aws.head()"
   ]
  },
  {
   "cell_type": "code",
   "execution_count": 152,
   "metadata": {
    "colab": {
     "base_uri": "https://localhost:8080/",
     "height": 35
    },
    "colab_type": "code",
    "id": "BY_ElLkNyQx5",
    "outputId": "546fdd54-0f66-4c1b-bff0-2e174784bf67"
   },
   "outputs": [
    {
     "data": {
      "text/plain": [
       "62.86798977851868"
      ]
     },
     "execution_count": 152,
     "metadata": {
      "tags": []
     },
     "output_type": "execute_result"
    }
   ],
   "source": [
    "time_aws"
   ]
  },
  {
   "cell_type": "code",
   "execution_count": 153,
   "metadata": {
    "colab": {
     "base_uri": "https://localhost:8080/",
     "height": 35
    },
    "colab_type": "code",
    "id": "5EyFIQhrzALN",
    "outputId": "2f303381-dce8-43ed-c6b9-78b6e145493a"
   },
   "outputs": [
    {
     "data": {
      "text/plain": [
       "622"
      ]
     },
     "execution_count": 153,
     "metadata": {
      "tags": []
     },
     "output_type": "execute_result"
    }
   ],
   "source": [
    "len(result_aws)"
   ]
  },
  {
   "cell_type": "code",
   "execution_count": 0,
   "metadata": {
    "colab": {},
    "colab_type": "code",
    "id": "BdFsmNnbsn8t"
   },
   "outputs": [],
   "source": [
    "#Getting sentiment using Microsoft Azure API:\n",
    "\n",
    "n = len(text)\n",
    "id=[i for i in range(1,1+n)]\n",
    "language=['en' for i in range(n)]\n",
    "document=[]\n",
    "\n",
    "#Generating form for hitting it on Azure Text Analystics API \n",
    "for i in range(n):\n",
    "    dic = {'id':id[i],'language':language[i],'text':text[i]}\n",
    "    document.append(dic)\n",
    "documents = {'documents':document}\n",
    "\n",
    "def GetSentiment (documents1):\n",
    "    path = '/text/analytics/v2.0/sentiment'\n",
    "    \n",
    "    headers = {'Ocp-Apim-Subscription-Key': accessKey}\n",
    "    conn = HTTPSConnection (uri)\n",
    "    body = json.dumps (documents1)\n",
    "    conn.request (\"POST\", path, body, headers)\n",
    "    response = conn.getresponse ()\n",
    "    return response.read ()\n",
    "  \n",
    "start = time()\n",
    "result = GetSentiment(documents)\n",
    "\n",
    "sentiments = json.loads(result)[\"documents\"]\n",
    "\n",
    "i = 0\n",
    "rows = []\n",
    "for item in sentiments:\n",
    "  row = [sentiments[i]['id'], 'Azure', sentiments[i]['score']]\n",
    "  rows.append(row)\n",
    "  i+=1\n",
    "result_azure = pd.DataFrame(rows, columns=['Text_ID', 'API', 'Overall_Score'])\n",
    "\n",
    "end = time()\n",
    "\n",
    "time_azure = end - start"
   ]
  },
  {
   "cell_type": "code",
   "execution_count": 89,
   "metadata": {
    "colab": {
     "base_uri": "https://localhost:8080/",
     "height": 198
    },
    "colab_type": "code",
    "id": "8JRlhkrVu0Ie",
    "outputId": "1235e902-8399-49a3-f42f-6e7dc43f0331"
   },
   "outputs": [
    {
     "data": {
      "text/html": [
       "<div>\n",
       "<style scoped>\n",
       "    .dataframe tbody tr th:only-of-type {\n",
       "        vertical-align: middle;\n",
       "    }\n",
       "\n",
       "    .dataframe tbody tr th {\n",
       "        vertical-align: top;\n",
       "    }\n",
       "\n",
       "    .dataframe thead th {\n",
       "        text-align: right;\n",
       "    }\n",
       "</style>\n",
       "<table border=\"1\" class=\"dataframe\">\n",
       "  <thead>\n",
       "    <tr style=\"text-align: right;\">\n",
       "      <th></th>\n",
       "      <th>Text_ID</th>\n",
       "      <th>API</th>\n",
       "      <th>Overall_Score</th>\n",
       "    </tr>\n",
       "  </thead>\n",
       "  <tbody>\n",
       "    <tr>\n",
       "      <th>0</th>\n",
       "      <td>1</td>\n",
       "      <td>Azure</td>\n",
       "      <td>0.500000</td>\n",
       "    </tr>\n",
       "    <tr>\n",
       "      <th>1</th>\n",
       "      <td>2</td>\n",
       "      <td>Azure</td>\n",
       "      <td>0.891742</td>\n",
       "    </tr>\n",
       "    <tr>\n",
       "      <th>2</th>\n",
       "      <td>3</td>\n",
       "      <td>Azure</td>\n",
       "      <td>0.500000</td>\n",
       "    </tr>\n",
       "    <tr>\n",
       "      <th>3</th>\n",
       "      <td>4</td>\n",
       "      <td>Azure</td>\n",
       "      <td>0.500000</td>\n",
       "    </tr>\n",
       "    <tr>\n",
       "      <th>4</th>\n",
       "      <td>5</td>\n",
       "      <td>Azure</td>\n",
       "      <td>0.500000</td>\n",
       "    </tr>\n",
       "  </tbody>\n",
       "</table>\n",
       "</div>"
      ],
      "text/plain": [
       "  Text_ID    API  Overall_Score\n",
       "0       1  Azure       0.500000\n",
       "1       2  Azure       0.891742\n",
       "2       3  Azure       0.500000\n",
       "3       4  Azure       0.500000\n",
       "4       5  Azure       0.500000"
      ]
     },
     "execution_count": 89,
     "metadata": {
      "tags": []
     },
     "output_type": "execute_result"
    }
   ],
   "source": [
    "result_azure.head()"
   ]
  },
  {
   "cell_type": "code",
   "execution_count": 90,
   "metadata": {
    "colab": {
     "base_uri": "https://localhost:8080/",
     "height": 35
    },
    "colab_type": "code",
    "id": "8nJmmV5XyydX",
    "outputId": "139233c6-2054-459f-d185-bb0961b835e2"
   },
   "outputs": [
    {
     "data": {
      "text/plain": [
       "3.167090654373169"
      ]
     },
     "execution_count": 90,
     "metadata": {
      "tags": []
     },
     "output_type": "execute_result"
    }
   ],
   "source": [
    "time_azure"
   ]
  },
  {
   "cell_type": "code",
   "execution_count": 92,
   "metadata": {
    "colab": {
     "base_uri": "https://localhost:8080/",
     "height": 35
    },
    "colab_type": "code",
    "id": "zOEP-JjEy1z5",
    "outputId": "88ec802e-5ecc-4e3a-e0d9-18e467d06365"
   },
   "outputs": [
    {
     "data": {
      "text/plain": [
       "622"
      ]
     },
     "execution_count": 92,
     "metadata": {
      "tags": []
     },
     "output_type": "execute_result"
    }
   ],
   "source": [
    "len(result_azure)"
   ]
  },
  {
   "cell_type": "code",
   "execution_count": 95,
   "metadata": {
    "colab": {
     "base_uri": "https://localhost:8080/",
     "height": 201
    },
    "colab_type": "code",
    "id": "0PfhOSOZy7kR",
    "outputId": "933a29c2-c2d2-4cdc-aa1d-808885b98603"
   },
   "outputs": [
    {
     "name": "stdout",
     "output_type": "stream",
     "text": [
      "Requirement already satisfied: watson_developer_cloud in /usr/local/lib/python3.6/dist-packages (2.4.4)\n",
      "Requirement already satisfied: websocket-client==0.47.0 in /usr/local/lib/python3.6/dist-packages (from watson_developer_cloud) (0.47.0)\n",
      "Requirement already satisfied: requests<3.0,>=2.0 in /usr/local/lib/python3.6/dist-packages (from watson_developer_cloud) (2.18.4)\n",
      "Requirement already satisfied: python-dateutil>=2.5.3 in /usr/local/lib/python3.6/dist-packages (from watson_developer_cloud) (2.5.3)\n",
      "Requirement already satisfied: six in /usr/local/lib/python3.6/dist-packages (from websocket-client==0.47.0->watson_developer_cloud) (1.11.0)\n",
      "Requirement already satisfied: chardet<3.1.0,>=3.0.2 in /usr/local/lib/python3.6/dist-packages (from requests<3.0,>=2.0->watson_developer_cloud) (3.0.4)\n",
      "Requirement already satisfied: idna<2.7,>=2.5 in /usr/local/lib/python3.6/dist-packages (from requests<3.0,>=2.0->watson_developer_cloud) (2.6)\n",
      "Requirement already satisfied: urllib3<1.23,>=1.21.1 in /usr/local/lib/python3.6/dist-packages (from requests<3.0,>=2.0->watson_developer_cloud) (1.22)\n",
      "Requirement already satisfied: certifi>=2017.4.17 in /usr/local/lib/python3.6/dist-packages (from requests<3.0,>=2.0->watson_developer_cloud) (2018.10.15)\n"
     ]
    }
   ],
   "source": [
    "#Getting sentiment using IBM API:\n",
    "\n",
    "#Introducing IBM API:\n",
    "!pip install watson_developer_cloud\n",
    "from watson_developer_cloud import NaturalLanguageUnderstandingV1\n",
    "from watson_developer_cloud.natural_language_understanding_v1 import Features, SentimentOptions\n",
    "\n",
    "natural_language_understanding = NaturalLanguageUnderstandingV1(\n",
    "    version='2018-03-16',\n",
    "    iam_apikey=config['IBM API Key'],#need private key here\n",
    "    url=config['IBM API url']\n",
    ")\n",
    "\n",
    "start = time()\n",
    "rows = []\n",
    "i=1\n",
    "for t in text:\n",
    "    if (len(t)<15 or len(t.split(' '))<3):\n",
    "        #Padding neutral text as the IBM NLU api needs some minimum text word and charachater coun\n",
    "        t = t + \"This is neutral\"\n",
    "    sentimentData = natural_language_understanding.analyze(text=t,features=Features(sentiment=SentimentOptions(targets=['']))).get_result()\n",
    "    row = [i, 'IBM', sentimentData['sentiment']['document']['label'],sentimentData['sentiment']['document']['score']]\n",
    "    rows.append(row)\n",
    "    i+=1\n",
    "    \n",
    "result_ibm = pd.DataFrame(rows, columns=['Text_ID', 'API', 'Overall', 'Score'])\n",
    "\n",
    "end = time()\n",
    "\n",
    "time_ibm = end - start"
   ]
  },
  {
   "cell_type": "code",
   "execution_count": 96,
   "metadata": {
    "colab": {
     "base_uri": "https://localhost:8080/",
     "height": 198
    },
    "colab_type": "code",
    "id": "LjEl92jHzpN4",
    "outputId": "60a09a9a-e917-4d14-e615-764f4106512c"
   },
   "outputs": [
    {
     "data": {
      "text/html": [
       "<div>\n",
       "<style scoped>\n",
       "    .dataframe tbody tr th:only-of-type {\n",
       "        vertical-align: middle;\n",
       "    }\n",
       "\n",
       "    .dataframe tbody tr th {\n",
       "        vertical-align: top;\n",
       "    }\n",
       "\n",
       "    .dataframe thead th {\n",
       "        text-align: right;\n",
       "    }\n",
       "</style>\n",
       "<table border=\"1\" class=\"dataframe\">\n",
       "  <thead>\n",
       "    <tr style=\"text-align: right;\">\n",
       "      <th></th>\n",
       "      <th>Text_ID</th>\n",
       "      <th>API</th>\n",
       "      <th>Overall</th>\n",
       "      <th>Score</th>\n",
       "    </tr>\n",
       "  </thead>\n",
       "  <tbody>\n",
       "    <tr>\n",
       "      <th>0</th>\n",
       "      <td>1</td>\n",
       "      <td>IBM</td>\n",
       "      <td>neutral</td>\n",
       "      <td>0.000000</td>\n",
       "    </tr>\n",
       "    <tr>\n",
       "      <th>1</th>\n",
       "      <td>2</td>\n",
       "      <td>IBM</td>\n",
       "      <td>positive</td>\n",
       "      <td>0.750129</td>\n",
       "    </tr>\n",
       "    <tr>\n",
       "      <th>2</th>\n",
       "      <td>3</td>\n",
       "      <td>IBM</td>\n",
       "      <td>positive</td>\n",
       "      <td>0.476440</td>\n",
       "    </tr>\n",
       "    <tr>\n",
       "      <th>3</th>\n",
       "      <td>4</td>\n",
       "      <td>IBM</td>\n",
       "      <td>positive</td>\n",
       "      <td>0.678515</td>\n",
       "    </tr>\n",
       "    <tr>\n",
       "      <th>4</th>\n",
       "      <td>5</td>\n",
       "      <td>IBM</td>\n",
       "      <td>positive</td>\n",
       "      <td>0.437226</td>\n",
       "    </tr>\n",
       "  </tbody>\n",
       "</table>\n",
       "</div>"
      ],
      "text/plain": [
       "   Text_ID  API   Overall     Score\n",
       "0        1  IBM   neutral  0.000000\n",
       "1        2  IBM  positive  0.750129\n",
       "2        3  IBM  positive  0.476440\n",
       "3        4  IBM  positive  0.678515\n",
       "4        5  IBM  positive  0.437226"
      ]
     },
     "execution_count": 96,
     "metadata": {
      "tags": []
     },
     "output_type": "execute_result"
    }
   ],
   "source": [
    "result_ibm.head()"
   ]
  },
  {
   "cell_type": "code",
   "execution_count": 97,
   "metadata": {
    "colab": {
     "base_uri": "https://localhost:8080/",
     "height": 35
    },
    "colab_type": "code",
    "id": "WBQB8E7g0JXK",
    "outputId": "7db2932d-99aa-42f7-922e-f5cfeb8e82df"
   },
   "outputs": [
    {
     "data": {
      "text/plain": [
       "229.88341784477234"
      ]
     },
     "execution_count": 97,
     "metadata": {
      "tags": []
     },
     "output_type": "execute_result"
    }
   ],
   "source": [
    "time_ibm"
   ]
  },
  {
   "cell_type": "code",
   "execution_count": 98,
   "metadata": {
    "colab": {
     "base_uri": "https://localhost:8080/",
     "height": 35
    },
    "colab_type": "code",
    "id": "h-N_v9160L4S",
    "outputId": "89dc689b-9e2c-4fde-a21f-3b8511bd7023"
   },
   "outputs": [
    {
     "data": {
      "text/plain": [
       "622"
      ]
     },
     "execution_count": 98,
     "metadata": {
      "tags": []
     },
     "output_type": "execute_result"
    }
   ],
   "source": [
    "len(result_ibm)"
   ]
  },
  {
   "cell_type": "code",
   "execution_count": 0,
   "metadata": {
    "colab": {},
    "colab_type": "code",
    "id": "Tx6j8EFX0kVR"
   },
   "outputs": [],
   "source": [
    "#Getting Sentiment using Google API:\n",
    "\n",
    "start = time()\n",
    "\n",
    "rows = []\n",
    "i=1\n",
    "\n",
    "for t in text:\n",
    "  document = types.Document(\n",
    "    content=t,\n",
    "    type=enums.Document.Type.PLAIN_TEXT)\n",
    "  sentiment = client.analyze_sentiment(document=document)\n",
    "  row = [i, 'GCP', sentiment.document_sentiment.magnitude,sentiment.document_sentiment.score]\n",
    "  rows.append(row)\n",
    "  i+=1\n",
    "\n",
    "result_gcp = pd.DataFrame(rows, columns=['Text_ID', 'API', 'Magnitude', 'Score'])\n",
    "\n",
    "end = time()\n",
    "\n",
    "time_gcp = end-start\n",
    "  "
   ]
  },
  {
   "cell_type": "code",
   "execution_count": 100,
   "metadata": {
    "colab": {
     "base_uri": "https://localhost:8080/",
     "height": 198
    },
    "colab_type": "code",
    "id": "ArjLfJSJ1H_J",
    "outputId": "e8fad3c4-5d23-4092-8018-fde9f7e2015a"
   },
   "outputs": [
    {
     "data": {
      "text/html": [
       "<div>\n",
       "<style scoped>\n",
       "    .dataframe tbody tr th:only-of-type {\n",
       "        vertical-align: middle;\n",
       "    }\n",
       "\n",
       "    .dataframe tbody tr th {\n",
       "        vertical-align: top;\n",
       "    }\n",
       "\n",
       "    .dataframe thead th {\n",
       "        text-align: right;\n",
       "    }\n",
       "</style>\n",
       "<table border=\"1\" class=\"dataframe\">\n",
       "  <thead>\n",
       "    <tr style=\"text-align: right;\">\n",
       "      <th></th>\n",
       "      <th>Text_ID</th>\n",
       "      <th>API</th>\n",
       "      <th>Magnitude</th>\n",
       "      <th>Score</th>\n",
       "    </tr>\n",
       "  </thead>\n",
       "  <tbody>\n",
       "    <tr>\n",
       "      <th>0</th>\n",
       "      <td>1</td>\n",
       "      <td>GCP</td>\n",
       "      <td>0.0</td>\n",
       "      <td>0.0</td>\n",
       "    </tr>\n",
       "    <tr>\n",
       "      <th>1</th>\n",
       "      <td>2</td>\n",
       "      <td>GCP</td>\n",
       "      <td>0.9</td>\n",
       "      <td>0.1</td>\n",
       "    </tr>\n",
       "    <tr>\n",
       "      <th>2</th>\n",
       "      <td>3</td>\n",
       "      <td>GCP</td>\n",
       "      <td>0.0</td>\n",
       "      <td>0.0</td>\n",
       "    </tr>\n",
       "    <tr>\n",
       "      <th>3</th>\n",
       "      <td>4</td>\n",
       "      <td>GCP</td>\n",
       "      <td>1.2</td>\n",
       "      <td>0.3</td>\n",
       "    </tr>\n",
       "    <tr>\n",
       "      <th>4</th>\n",
       "      <td>5</td>\n",
       "      <td>GCP</td>\n",
       "      <td>0.2</td>\n",
       "      <td>0.0</td>\n",
       "    </tr>\n",
       "  </tbody>\n",
       "</table>\n",
       "</div>"
      ],
      "text/plain": [
       "   Text_ID  API  Magnitude  Score\n",
       "0        1  GCP        0.0    0.0\n",
       "1        2  GCP        0.9    0.1\n",
       "2        3  GCP        0.0    0.0\n",
       "3        4  GCP        1.2    0.3\n",
       "4        5  GCP        0.2    0.0"
      ]
     },
     "execution_count": 100,
     "metadata": {
      "tags": []
     },
     "output_type": "execute_result"
    }
   ],
   "source": [
    "result_gcp.head()"
   ]
  },
  {
   "cell_type": "code",
   "execution_count": 101,
   "metadata": {
    "colab": {
     "base_uri": "https://localhost:8080/",
     "height": 35
    },
    "colab_type": "code",
    "id": "Dcjg8PX_1X8P",
    "outputId": "68b281ca-7d6d-492e-debf-5d1af0c18579"
   },
   "outputs": [
    {
     "data": {
      "text/plain": [
       "47.409239530563354"
      ]
     },
     "execution_count": 101,
     "metadata": {
      "tags": []
     },
     "output_type": "execute_result"
    }
   ],
   "source": [
    "time_gcp"
   ]
  },
  {
   "cell_type": "code",
   "execution_count": 102,
   "metadata": {
    "colab": {
     "base_uri": "https://localhost:8080/",
     "height": 35
    },
    "colab_type": "code",
    "id": "aGPfh87W1W0v",
    "outputId": "0b6d3273-78f7-427e-e140-ad0f5821d5c0"
   },
   "outputs": [
    {
     "data": {
      "text/plain": [
       "622"
      ]
     },
     "execution_count": 102,
     "metadata": {
      "tags": []
     },
     "output_type": "execute_result"
    }
   ],
   "source": [
    "len(result_gcp)"
   ]
  },
  {
   "cell_type": "code",
   "execution_count": 104,
   "metadata": {
    "colab": {
     "base_uri": "https://localhost:8080/",
     "height": 128
    },
    "colab_type": "code",
    "id": "SYeJ9Ic-1byz",
    "outputId": "cc670583-c5d6-4037-9d39-f4281854f53d"
   },
   "outputs": [
    {
     "name": "stdout",
     "output_type": "stream",
     "text": [
      "Collecting vaderSentiment\n",
      "\u001b[?25l  Downloading https://files.pythonhosted.org/packages/86/9e/c53e1fc61aac5ee490a6ac5e21b1ac04e55a7c2aba647bb8411c9aadf24e/vaderSentiment-3.2.1-py2.py3-none-any.whl (125kB)\n",
      "\u001b[K    100% |████████████████████████████████| 133kB 6.0MB/s \n",
      "\u001b[?25hInstalling collected packages: vaderSentiment\n",
      "Successfully installed vaderSentiment-3.2.1\n"
     ]
    }
   ],
   "source": [
    "#Getting Sentiment using Vedor API:\n",
    "\n",
    "!pip install vaderSentiment\n",
    "from vaderSentiment.vaderSentiment import SentimentIntensityAnalyzer\n",
    "\n",
    "\n",
    "analyzer = SentimentIntensityAnalyzer()\n",
    "\n",
    "start = time()\n",
    "\n",
    "rows = []\n",
    "i=1\n",
    "for t in text:\n",
    "  sentimentData = analyzer.polarity_scores(t)\n",
    "  row = [i, 'Vader', sentimentData['compound'],sentimentData['neg'],sentimentData['neu'],sentimentData['pos']]\n",
    "  rows.append(row)\n",
    "  i+=1\n",
    "  \n",
    "result_vader = pd.DataFrame(rows, columns=['Text_ID', 'API', 'Overall_Score', 'Negative_Score', 'Neutral_Score', 'Positive_Score'])\n",
    "\n",
    "end = time()\n",
    "\n",
    "time_vader = end - start\n",
    "\n"
   ]
  },
  {
   "cell_type": "code",
   "execution_count": 105,
   "metadata": {
    "colab": {
     "base_uri": "https://localhost:8080/",
     "height": 198
    },
    "colab_type": "code",
    "id": "SaeunJoL1_QA",
    "outputId": "80c26756-8dcc-4bcf-90b8-2c8d75ebb1b0"
   },
   "outputs": [
    {
     "data": {
      "text/html": [
       "<div>\n",
       "<style scoped>\n",
       "    .dataframe tbody tr th:only-of-type {\n",
       "        vertical-align: middle;\n",
       "    }\n",
       "\n",
       "    .dataframe tbody tr th {\n",
       "        vertical-align: top;\n",
       "    }\n",
       "\n",
       "    .dataframe thead th {\n",
       "        text-align: right;\n",
       "    }\n",
       "</style>\n",
       "<table border=\"1\" class=\"dataframe\">\n",
       "  <thead>\n",
       "    <tr style=\"text-align: right;\">\n",
       "      <th></th>\n",
       "      <th>Text_ID</th>\n",
       "      <th>API</th>\n",
       "      <th>Overall_Score</th>\n",
       "      <th>Negative_Score</th>\n",
       "      <th>Neutral_Score</th>\n",
       "      <th>Positive_Score</th>\n",
       "    </tr>\n",
       "  </thead>\n",
       "  <tbody>\n",
       "    <tr>\n",
       "      <th>0</th>\n",
       "      <td>1</td>\n",
       "      <td>Vader</td>\n",
       "      <td>0.0000</td>\n",
       "      <td>0.0</td>\n",
       "      <td>1.000</td>\n",
       "      <td>0.000</td>\n",
       "    </tr>\n",
       "    <tr>\n",
       "      <th>1</th>\n",
       "      <td>2</td>\n",
       "      <td>Vader</td>\n",
       "      <td>0.7096</td>\n",
       "      <td>0.0</td>\n",
       "      <td>0.848</td>\n",
       "      <td>0.152</td>\n",
       "    </tr>\n",
       "    <tr>\n",
       "      <th>2</th>\n",
       "      <td>3</td>\n",
       "      <td>Vader</td>\n",
       "      <td>0.3182</td>\n",
       "      <td>0.0</td>\n",
       "      <td>0.892</td>\n",
       "      <td>0.108</td>\n",
       "    </tr>\n",
       "    <tr>\n",
       "      <th>3</th>\n",
       "      <td>4</td>\n",
       "      <td>Vader</td>\n",
       "      <td>0.8658</td>\n",
       "      <td>0.0</td>\n",
       "      <td>0.872</td>\n",
       "      <td>0.128</td>\n",
       "    </tr>\n",
       "    <tr>\n",
       "      <th>4</th>\n",
       "      <td>5</td>\n",
       "      <td>Vader</td>\n",
       "      <td>0.0000</td>\n",
       "      <td>0.0</td>\n",
       "      <td>1.000</td>\n",
       "      <td>0.000</td>\n",
       "    </tr>\n",
       "  </tbody>\n",
       "</table>\n",
       "</div>"
      ],
      "text/plain": [
       "   Text_ID    API  Overall_Score  Negative_Score  Neutral_Score  \\\n",
       "0        1  Vader         0.0000             0.0          1.000   \n",
       "1        2  Vader         0.7096             0.0          0.848   \n",
       "2        3  Vader         0.3182             0.0          0.892   \n",
       "3        4  Vader         0.8658             0.0          0.872   \n",
       "4        5  Vader         0.0000             0.0          1.000   \n",
       "\n",
       "   Positive_Score  \n",
       "0           0.000  \n",
       "1           0.152  \n",
       "2           0.108  \n",
       "3           0.128  \n",
       "4           0.000  "
      ]
     },
     "execution_count": 105,
     "metadata": {
      "tags": []
     },
     "output_type": "execute_result"
    }
   ],
   "source": [
    "result_vader.head()"
   ]
  },
  {
   "cell_type": "code",
   "execution_count": 227,
   "metadata": {
    "colab": {
     "base_uri": "https://localhost:8080/",
     "height": 35
    },
    "colab_type": "code",
    "id": "ZLrPBqcO2LIM",
    "outputId": "069108ee-72e9-4ba3-93f6-58c41b47513a"
   },
   "outputs": [
    {
     "data": {
      "text/plain": [
       "0.7608842849731445"
      ]
     },
     "execution_count": 227,
     "metadata": {
      "tags": []
     },
     "output_type": "execute_result"
    }
   ],
   "source": [
    "time_vader"
   ]
  },
  {
   "cell_type": "code",
   "execution_count": 110,
   "metadata": {
    "colab": {
     "base_uri": "https://localhost:8080/",
     "height": 35
    },
    "colab_type": "code",
    "id": "qnFJVYSP2cqk",
    "outputId": "64e6399a-f777-46a5-ecce-5ae62ed111fd"
   },
   "outputs": [
    {
     "data": {
      "text/plain": [
       "622"
      ]
     },
     "execution_count": 110,
     "metadata": {
      "tags": []
     },
     "output_type": "execute_result"
    }
   ],
   "source": [
    "len(result_vader)"
   ]
  },
  {
   "cell_type": "code",
   "execution_count": 111,
   "metadata": {
    "colab": {
     "base_uri": "https://localhost:8080/",
     "height": 198
    },
    "colab_type": "code",
    "id": "w6ckvhBY4c_Q",
    "outputId": "1c9882ef-7477-40a5-8d08-8b81b3a85cb9"
   },
   "outputs": [
    {
     "data": {
      "text/html": [
       "<div>\n",
       "<style scoped>\n",
       "    .dataframe tbody tr th:only-of-type {\n",
       "        vertical-align: middle;\n",
       "    }\n",
       "\n",
       "    .dataframe tbody tr th {\n",
       "        vertical-align: top;\n",
       "    }\n",
       "\n",
       "    .dataframe thead th {\n",
       "        text-align: right;\n",
       "    }\n",
       "</style>\n",
       "<table border=\"1\" class=\"dataframe\">\n",
       "  <thead>\n",
       "    <tr style=\"text-align: right;\">\n",
       "      <th></th>\n",
       "      <th>Company</th>\n",
       "      <th>Sentiment</th>\n",
       "      <th>Text</th>\n",
       "    </tr>\n",
       "  </thead>\n",
       "  <tbody>\n",
       "    <tr>\n",
       "      <th>0</th>\n",
       "      <td>Amazon</td>\n",
       "      <td>Neutral</td>\n",
       "      <td>Amazon.com, Inc. (NASDAQ:AMZN) Q3 2018 Earning...</td>\n",
       "    </tr>\n",
       "    <tr>\n",
       "      <th>1</th>\n",
       "      <td>Amazon</td>\n",
       "      <td>Neutral</td>\n",
       "      <td>Good day, everyone, and welcome to the Amazon....</td>\n",
       "    </tr>\n",
       "    <tr>\n",
       "      <th>2</th>\n",
       "      <td>Amazon</td>\n",
       "      <td>Neutral</td>\n",
       "      <td>For opening remarks, I will be turning the cal...</td>\n",
       "    </tr>\n",
       "    <tr>\n",
       "      <th>3</th>\n",
       "      <td>Amazon</td>\n",
       "      <td>Neutral</td>\n",
       "      <td>Hello, and welcome to our Q3 2018 financial re...</td>\n",
       "    </tr>\n",
       "    <tr>\n",
       "      <th>4</th>\n",
       "      <td>Amazon</td>\n",
       "      <td>Neutral</td>\n",
       "      <td>Our comments and responses to your questions r...</td>\n",
       "    </tr>\n",
       "  </tbody>\n",
       "</table>\n",
       "</div>"
      ],
      "text/plain": [
       "  Company Sentiment                                               Text\n",
       "0  Amazon   Neutral  Amazon.com, Inc. (NASDAQ:AMZN) Q3 2018 Earning...\n",
       "1  Amazon   Neutral  Good day, everyone, and welcome to the Amazon....\n",
       "2  Amazon   Neutral  For opening remarks, I will be turning the cal...\n",
       "3  Amazon   Neutral  Hello, and welcome to our Q3 2018 financial re...\n",
       "4  Amazon   Neutral  Our comments and responses to your questions r..."
      ]
     },
     "execution_count": 111,
     "metadata": {
      "tags": []
     },
     "output_type": "execute_result"
    }
   ],
   "source": [
    "Man_Senti.head()"
   ]
  },
  {
   "cell_type": "code",
   "execution_count": 0,
   "metadata": {
    "colab": {},
    "colab_type": "code",
    "id": "jyB-pK6E4lRY"
   },
   "outputs": [],
   "source": [
    "Man_Senti = Man_Senti.reset_index()"
   ]
  },
  {
   "cell_type": "code",
   "execution_count": 113,
   "metadata": {
    "colab": {
     "base_uri": "https://localhost:8080/",
     "height": 198
    },
    "colab_type": "code",
    "id": "J8bOnW6t4vE2",
    "outputId": "b923b84e-a922-4a8a-9c6d-fed951d6a257"
   },
   "outputs": [
    {
     "data": {
      "text/html": [
       "<div>\n",
       "<style scoped>\n",
       "    .dataframe tbody tr th:only-of-type {\n",
       "        vertical-align: middle;\n",
       "    }\n",
       "\n",
       "    .dataframe tbody tr th {\n",
       "        vertical-align: top;\n",
       "    }\n",
       "\n",
       "    .dataframe thead th {\n",
       "        text-align: right;\n",
       "    }\n",
       "</style>\n",
       "<table border=\"1\" class=\"dataframe\">\n",
       "  <thead>\n",
       "    <tr style=\"text-align: right;\">\n",
       "      <th></th>\n",
       "      <th>index</th>\n",
       "      <th>Company</th>\n",
       "      <th>Sentiment</th>\n",
       "      <th>Text</th>\n",
       "    </tr>\n",
       "  </thead>\n",
       "  <tbody>\n",
       "    <tr>\n",
       "      <th>0</th>\n",
       "      <td>0</td>\n",
       "      <td>Amazon</td>\n",
       "      <td>Neutral</td>\n",
       "      <td>Amazon.com, Inc. (NASDAQ:AMZN) Q3 2018 Earning...</td>\n",
       "    </tr>\n",
       "    <tr>\n",
       "      <th>1</th>\n",
       "      <td>1</td>\n",
       "      <td>Amazon</td>\n",
       "      <td>Neutral</td>\n",
       "      <td>Good day, everyone, and welcome to the Amazon....</td>\n",
       "    </tr>\n",
       "    <tr>\n",
       "      <th>2</th>\n",
       "      <td>2</td>\n",
       "      <td>Amazon</td>\n",
       "      <td>Neutral</td>\n",
       "      <td>For opening remarks, I will be turning the cal...</td>\n",
       "    </tr>\n",
       "    <tr>\n",
       "      <th>3</th>\n",
       "      <td>3</td>\n",
       "      <td>Amazon</td>\n",
       "      <td>Neutral</td>\n",
       "      <td>Hello, and welcome to our Q3 2018 financial re...</td>\n",
       "    </tr>\n",
       "    <tr>\n",
       "      <th>4</th>\n",
       "      <td>4</td>\n",
       "      <td>Amazon</td>\n",
       "      <td>Neutral</td>\n",
       "      <td>Our comments and responses to your questions r...</td>\n",
       "    </tr>\n",
       "  </tbody>\n",
       "</table>\n",
       "</div>"
      ],
      "text/plain": [
       "   index Company Sentiment                                               Text\n",
       "0      0  Amazon   Neutral  Amazon.com, Inc. (NASDAQ:AMZN) Q3 2018 Earning...\n",
       "1      1  Amazon   Neutral  Good day, everyone, and welcome to the Amazon....\n",
       "2      2  Amazon   Neutral  For opening remarks, I will be turning the cal...\n",
       "3      3  Amazon   Neutral  Hello, and welcome to our Q3 2018 financial re...\n",
       "4      4  Amazon   Neutral  Our comments and responses to your questions r..."
      ]
     },
     "execution_count": 113,
     "metadata": {
      "tags": []
     },
     "output_type": "execute_result"
    }
   ],
   "source": [
    "Man_Senti.head()"
   ]
  },
  {
   "cell_type": "code",
   "execution_count": 0,
   "metadata": {
    "colab": {},
    "colab_type": "code",
    "id": "0rKI0OkB46jg"
   },
   "outputs": [],
   "source": [
    "Man_Senti['Text_ID'] = Man_Senti.index + 1"
   ]
  },
  {
   "cell_type": "code",
   "execution_count": 115,
   "metadata": {
    "colab": {
     "base_uri": "https://localhost:8080/",
     "height": 198
    },
    "colab_type": "code",
    "id": "sKm3cSHi5JhL",
    "outputId": "f57c7d04-58cd-4f0d-bc2a-8081072f38f5"
   },
   "outputs": [
    {
     "data": {
      "text/html": [
       "<div>\n",
       "<style scoped>\n",
       "    .dataframe tbody tr th:only-of-type {\n",
       "        vertical-align: middle;\n",
       "    }\n",
       "\n",
       "    .dataframe tbody tr th {\n",
       "        vertical-align: top;\n",
       "    }\n",
       "\n",
       "    .dataframe thead th {\n",
       "        text-align: right;\n",
       "    }\n",
       "</style>\n",
       "<table border=\"1\" class=\"dataframe\">\n",
       "  <thead>\n",
       "    <tr style=\"text-align: right;\">\n",
       "      <th></th>\n",
       "      <th>index</th>\n",
       "      <th>Company</th>\n",
       "      <th>Sentiment</th>\n",
       "      <th>Text</th>\n",
       "      <th>Text_ID</th>\n",
       "    </tr>\n",
       "  </thead>\n",
       "  <tbody>\n",
       "    <tr>\n",
       "      <th>0</th>\n",
       "      <td>0</td>\n",
       "      <td>Amazon</td>\n",
       "      <td>Neutral</td>\n",
       "      <td>Amazon.com, Inc. (NASDAQ:AMZN) Q3 2018 Earning...</td>\n",
       "      <td>1</td>\n",
       "    </tr>\n",
       "    <tr>\n",
       "      <th>1</th>\n",
       "      <td>1</td>\n",
       "      <td>Amazon</td>\n",
       "      <td>Neutral</td>\n",
       "      <td>Good day, everyone, and welcome to the Amazon....</td>\n",
       "      <td>2</td>\n",
       "    </tr>\n",
       "    <tr>\n",
       "      <th>2</th>\n",
       "      <td>2</td>\n",
       "      <td>Amazon</td>\n",
       "      <td>Neutral</td>\n",
       "      <td>For opening remarks, I will be turning the cal...</td>\n",
       "      <td>3</td>\n",
       "    </tr>\n",
       "    <tr>\n",
       "      <th>3</th>\n",
       "      <td>3</td>\n",
       "      <td>Amazon</td>\n",
       "      <td>Neutral</td>\n",
       "      <td>Hello, and welcome to our Q3 2018 financial re...</td>\n",
       "      <td>4</td>\n",
       "    </tr>\n",
       "    <tr>\n",
       "      <th>4</th>\n",
       "      <td>4</td>\n",
       "      <td>Amazon</td>\n",
       "      <td>Neutral</td>\n",
       "      <td>Our comments and responses to your questions r...</td>\n",
       "      <td>5</td>\n",
       "    </tr>\n",
       "  </tbody>\n",
       "</table>\n",
       "</div>"
      ],
      "text/plain": [
       "   index Company Sentiment                                               Text  \\\n",
       "0      0  Amazon   Neutral  Amazon.com, Inc. (NASDAQ:AMZN) Q3 2018 Earning...   \n",
       "1      1  Amazon   Neutral  Good day, everyone, and welcome to the Amazon....   \n",
       "2      2  Amazon   Neutral  For opening remarks, I will be turning the cal...   \n",
       "3      3  Amazon   Neutral  Hello, and welcome to our Q3 2018 financial re...   \n",
       "4      4  Amazon   Neutral  Our comments and responses to your questions r...   \n",
       "\n",
       "   Text_ID  \n",
       "0        1  \n",
       "1        2  \n",
       "2        3  \n",
       "3        4  \n",
       "4        5  "
      ]
     },
     "execution_count": 115,
     "metadata": {
      "tags": []
     },
     "output_type": "execute_result"
    }
   ],
   "source": [
    "Man_Senti.head()"
   ]
  },
  {
   "cell_type": "code",
   "execution_count": 0,
   "metadata": {
    "colab": {},
    "colab_type": "code",
    "id": "hMC0EsXU5Xj8"
   },
   "outputs": [],
   "source": [
    "Man_Senti = Man_Senti[['Text_ID','Company','Text','Sentiment']]"
   ]
  },
  {
   "cell_type": "code",
   "execution_count": 118,
   "metadata": {
    "colab": {
     "base_uri": "https://localhost:8080/",
     "height": 198
    },
    "colab_type": "code",
    "id": "xpjtVmuf5nex",
    "outputId": "f231d186-dd6c-4ca8-926a-1ffa29d0f5f5"
   },
   "outputs": [
    {
     "data": {
      "text/html": [
       "<div>\n",
       "<style scoped>\n",
       "    .dataframe tbody tr th:only-of-type {\n",
       "        vertical-align: middle;\n",
       "    }\n",
       "\n",
       "    .dataframe tbody tr th {\n",
       "        vertical-align: top;\n",
       "    }\n",
       "\n",
       "    .dataframe thead th {\n",
       "        text-align: right;\n",
       "    }\n",
       "</style>\n",
       "<table border=\"1\" class=\"dataframe\">\n",
       "  <thead>\n",
       "    <tr style=\"text-align: right;\">\n",
       "      <th></th>\n",
       "      <th>Text_ID</th>\n",
       "      <th>Company</th>\n",
       "      <th>Text</th>\n",
       "      <th>Sentiment</th>\n",
       "    </tr>\n",
       "  </thead>\n",
       "  <tbody>\n",
       "    <tr>\n",
       "      <th>0</th>\n",
       "      <td>1</td>\n",
       "      <td>Amazon</td>\n",
       "      <td>Amazon.com, Inc. (NASDAQ:AMZN) Q3 2018 Earning...</td>\n",
       "      <td>Neutral</td>\n",
       "    </tr>\n",
       "    <tr>\n",
       "      <th>1</th>\n",
       "      <td>2</td>\n",
       "      <td>Amazon</td>\n",
       "      <td>Good day, everyone, and welcome to the Amazon....</td>\n",
       "      <td>Neutral</td>\n",
       "    </tr>\n",
       "    <tr>\n",
       "      <th>2</th>\n",
       "      <td>3</td>\n",
       "      <td>Amazon</td>\n",
       "      <td>For opening remarks, I will be turning the cal...</td>\n",
       "      <td>Neutral</td>\n",
       "    </tr>\n",
       "    <tr>\n",
       "      <th>3</th>\n",
       "      <td>4</td>\n",
       "      <td>Amazon</td>\n",
       "      <td>Hello, and welcome to our Q3 2018 financial re...</td>\n",
       "      <td>Neutral</td>\n",
       "    </tr>\n",
       "    <tr>\n",
       "      <th>4</th>\n",
       "      <td>5</td>\n",
       "      <td>Amazon</td>\n",
       "      <td>Our comments and responses to your questions r...</td>\n",
       "      <td>Neutral</td>\n",
       "    </tr>\n",
       "  </tbody>\n",
       "</table>\n",
       "</div>"
      ],
      "text/plain": [
       "   Text_ID Company                                               Text  \\\n",
       "0        1  Amazon  Amazon.com, Inc. (NASDAQ:AMZN) Q3 2018 Earning...   \n",
       "1        2  Amazon  Good day, everyone, and welcome to the Amazon....   \n",
       "2        3  Amazon  For opening remarks, I will be turning the cal...   \n",
       "3        4  Amazon  Hello, and welcome to our Q3 2018 financial re...   \n",
       "4        5  Amazon  Our comments and responses to your questions r...   \n",
       "\n",
       "  Sentiment  \n",
       "0   Neutral  \n",
       "1   Neutral  \n",
       "2   Neutral  \n",
       "3   Neutral  \n",
       "4   Neutral  "
      ]
     },
     "execution_count": 118,
     "metadata": {
      "tags": []
     },
     "output_type": "execute_result"
    }
   ],
   "source": [
    "Man_Senti.head()"
   ]
  },
  {
   "cell_type": "code",
   "execution_count": 134,
   "metadata": {
    "colab": {
     "base_uri": "https://localhost:8080/",
     "height": 108
    },
    "colab_type": "code",
    "id": "vHRf8Tcj2kEm",
    "outputId": "332ef67b-8cf7-40eb-a8fd-da7d744968d6"
   },
   "outputs": [
    {
     "data": {
      "text/plain": [
       "Sentiment\n",
       "Negative     62\n",
       "Neutral     243\n",
       "Positive    317\n",
       "Name: Sentiment, dtype: int64"
      ]
     },
     "execution_count": 134,
     "metadata": {
      "tags": []
     },
     "output_type": "execute_result"
    }
   ],
   "source": [
    "#Now we will normalize the different API Results:\n",
    "\n",
    "Man_Senti.groupby('Sentiment')['Sentiment'].count()\n"
   ]
  },
  {
   "cell_type": "code",
   "execution_count": 135,
   "metadata": {
    "colab": {
     "base_uri": "https://localhost:8080/",
     "height": 35
    },
    "colab_type": "code",
    "id": "4i4zdTTN_UC3",
    "outputId": "8d164201-d95f-42f6-d4cd-916338454b60"
   },
   "outputs": [
    {
     "data": {
      "text/plain": [
       "array(['NEUTRAL', 'POSITIVE', 'MIXED', 'NEGATIVE'], dtype=object)"
      ]
     },
     "execution_count": 135,
     "metadata": {
      "tags": []
     },
     "output_type": "execute_result"
    }
   ],
   "source": [
    "#1. AWS\n",
    "\n",
    "result_aws.Overall.unique()"
   ]
  },
  {
   "cell_type": "code",
   "execution_count": 136,
   "metadata": {
    "colab": {
     "base_uri": "https://localhost:8080/",
     "height": 126
    },
    "colab_type": "code",
    "id": "vv58BKCJ8jzT",
    "outputId": "2d101b0d-99bb-42d0-ceb4-c1d680fcc57f"
   },
   "outputs": [
    {
     "data": {
      "text/plain": [
       "Overall\n",
       "MIXED         5\n",
       "NEGATIVE     22\n",
       "NEUTRAL     385\n",
       "POSITIVE    210\n",
       "Name: Overall, dtype: int64"
      ]
     },
     "execution_count": 136,
     "metadata": {
      "tags": []
     },
     "output_type": "execute_result"
    }
   ],
   "source": [
    "result_aws.groupby('Overall')['Overall'].count()"
   ]
  },
  {
   "cell_type": "code",
   "execution_count": 0,
   "metadata": {
    "colab": {},
    "colab_type": "code",
    "id": "Qqh6JquU_Hvs"
   },
   "outputs": [],
   "source": [
    "#Now we will replace MIXED with NEUTRAL\n",
    "\n",
    "backup_result_aws = result_aws.copy()\n",
    "backup_result_azure = result_azure.copy()\n",
    "backup_result_ibm = result_ibm.copy()\n",
    "backup_result_gcp = result_gcp.copy()\n",
    "backup_result_vader = result_vader.copy()\n"
   ]
  },
  {
   "cell_type": "code",
   "execution_count": 157,
   "metadata": {
    "colab": {
     "base_uri": "https://localhost:8080/",
     "height": 198
    },
    "colab_type": "code",
    "id": "K2KYULZeCcMh",
    "outputId": "5eae0015-352b-438b-9596-47d7a4156a26"
   },
   "outputs": [
    {
     "data": {
      "text/html": [
       "<div>\n",
       "<style scoped>\n",
       "    .dataframe tbody tr th:only-of-type {\n",
       "        vertical-align: middle;\n",
       "    }\n",
       "\n",
       "    .dataframe tbody tr th {\n",
       "        vertical-align: top;\n",
       "    }\n",
       "\n",
       "    .dataframe thead th {\n",
       "        text-align: right;\n",
       "    }\n",
       "</style>\n",
       "<table border=\"1\" class=\"dataframe\">\n",
       "  <thead>\n",
       "    <tr style=\"text-align: right;\">\n",
       "      <th></th>\n",
       "      <th>Text_ID</th>\n",
       "      <th>API</th>\n",
       "      <th>Overall</th>\n",
       "      <th>Negative</th>\n",
       "      <th>Neutral</th>\n",
       "      <th>Positive</th>\n",
       "    </tr>\n",
       "  </thead>\n",
       "  <tbody>\n",
       "    <tr>\n",
       "      <th>0</th>\n",
       "      <td>1</td>\n",
       "      <td>AWS</td>\n",
       "      <td>NEUTRAL</td>\n",
       "      <td>0.000141</td>\n",
       "      <td>0.998418</td>\n",
       "      <td>0.001304</td>\n",
       "    </tr>\n",
       "    <tr>\n",
       "      <th>1</th>\n",
       "      <td>2</td>\n",
       "      <td>AWS</td>\n",
       "      <td>POSITIVE</td>\n",
       "      <td>0.003760</td>\n",
       "      <td>0.487941</td>\n",
       "      <td>0.495716</td>\n",
       "    </tr>\n",
       "    <tr>\n",
       "      <th>2</th>\n",
       "      <td>3</td>\n",
       "      <td>AWS</td>\n",
       "      <td>NEUTRAL</td>\n",
       "      <td>0.007338</td>\n",
       "      <td>0.976732</td>\n",
       "      <td>0.012431</td>\n",
       "    </tr>\n",
       "    <tr>\n",
       "      <th>3</th>\n",
       "      <td>4</td>\n",
       "      <td>AWS</td>\n",
       "      <td>NEUTRAL</td>\n",
       "      <td>0.000654</td>\n",
       "      <td>0.686703</td>\n",
       "      <td>0.305323</td>\n",
       "    </tr>\n",
       "    <tr>\n",
       "      <th>4</th>\n",
       "      <td>5</td>\n",
       "      <td>AWS</td>\n",
       "      <td>NEUTRAL</td>\n",
       "      <td>0.002042</td>\n",
       "      <td>0.996204</td>\n",
       "      <td>0.001183</td>\n",
       "    </tr>\n",
       "  </tbody>\n",
       "</table>\n",
       "</div>"
      ],
      "text/plain": [
       "   Text_ID  API   Overall  Negative   Neutral  Positive\n",
       "0        1  AWS   NEUTRAL  0.000141  0.998418  0.001304\n",
       "1        2  AWS  POSITIVE  0.003760  0.487941  0.495716\n",
       "2        3  AWS   NEUTRAL  0.007338  0.976732  0.012431\n",
       "3        4  AWS   NEUTRAL  0.000654  0.686703  0.305323\n",
       "4        5  AWS   NEUTRAL  0.002042  0.996204  0.001183"
      ]
     },
     "execution_count": 157,
     "metadata": {
      "tags": []
     },
     "output_type": "execute_result"
    }
   ],
   "source": [
    "result_aws.head()"
   ]
  },
  {
   "cell_type": "code",
   "execution_count": 0,
   "metadata": {
    "colab": {},
    "colab_type": "code",
    "id": "cWNuPMCdA2bZ"
   },
   "outputs": [],
   "source": [
    "result_aws['Overall'] = result_aws['Overall'].apply({'MIXED':'Neutral', 'NEUTRAL':'Neutral', 'POSITIVE':'Positive', 'NEGATIVE':'Negative'}.get)"
   ]
  },
  {
   "cell_type": "code",
   "execution_count": 159,
   "metadata": {
    "colab": {
     "base_uri": "https://localhost:8080/",
     "height": 198
    },
    "colab_type": "code",
    "id": "FeHPQnPNBW5v",
    "outputId": "48898107-4f7a-4909-ccf8-41ad80f4b6c8"
   },
   "outputs": [
    {
     "data": {
      "text/html": [
       "<div>\n",
       "<style scoped>\n",
       "    .dataframe tbody tr th:only-of-type {\n",
       "        vertical-align: middle;\n",
       "    }\n",
       "\n",
       "    .dataframe tbody tr th {\n",
       "        vertical-align: top;\n",
       "    }\n",
       "\n",
       "    .dataframe thead th {\n",
       "        text-align: right;\n",
       "    }\n",
       "</style>\n",
       "<table border=\"1\" class=\"dataframe\">\n",
       "  <thead>\n",
       "    <tr style=\"text-align: right;\">\n",
       "      <th></th>\n",
       "      <th>Text_ID</th>\n",
       "      <th>API</th>\n",
       "      <th>Overall</th>\n",
       "      <th>Negative</th>\n",
       "      <th>Neutral</th>\n",
       "      <th>Positive</th>\n",
       "    </tr>\n",
       "  </thead>\n",
       "  <tbody>\n",
       "    <tr>\n",
       "      <th>0</th>\n",
       "      <td>1</td>\n",
       "      <td>AWS</td>\n",
       "      <td>Neutral</td>\n",
       "      <td>0.000141</td>\n",
       "      <td>0.998418</td>\n",
       "      <td>0.001304</td>\n",
       "    </tr>\n",
       "    <tr>\n",
       "      <th>1</th>\n",
       "      <td>2</td>\n",
       "      <td>AWS</td>\n",
       "      <td>Positive</td>\n",
       "      <td>0.003760</td>\n",
       "      <td>0.487941</td>\n",
       "      <td>0.495716</td>\n",
       "    </tr>\n",
       "    <tr>\n",
       "      <th>2</th>\n",
       "      <td>3</td>\n",
       "      <td>AWS</td>\n",
       "      <td>Neutral</td>\n",
       "      <td>0.007338</td>\n",
       "      <td>0.976732</td>\n",
       "      <td>0.012431</td>\n",
       "    </tr>\n",
       "    <tr>\n",
       "      <th>3</th>\n",
       "      <td>4</td>\n",
       "      <td>AWS</td>\n",
       "      <td>Neutral</td>\n",
       "      <td>0.000654</td>\n",
       "      <td>0.686703</td>\n",
       "      <td>0.305323</td>\n",
       "    </tr>\n",
       "    <tr>\n",
       "      <th>4</th>\n",
       "      <td>5</td>\n",
       "      <td>AWS</td>\n",
       "      <td>Neutral</td>\n",
       "      <td>0.002042</td>\n",
       "      <td>0.996204</td>\n",
       "      <td>0.001183</td>\n",
       "    </tr>\n",
       "  </tbody>\n",
       "</table>\n",
       "</div>"
      ],
      "text/plain": [
       "   Text_ID  API   Overall  Negative   Neutral  Positive\n",
       "0        1  AWS   Neutral  0.000141  0.998418  0.001304\n",
       "1        2  AWS  Positive  0.003760  0.487941  0.495716\n",
       "2        3  AWS   Neutral  0.007338  0.976732  0.012431\n",
       "3        4  AWS   Neutral  0.000654  0.686703  0.305323\n",
       "4        5  AWS   Neutral  0.002042  0.996204  0.001183"
      ]
     },
     "execution_count": 159,
     "metadata": {
      "tags": []
     },
     "output_type": "execute_result"
    }
   ],
   "source": [
    "result_aws.head()"
   ]
  },
  {
   "cell_type": "code",
   "execution_count": 160,
   "metadata": {
    "colab": {
     "base_uri": "https://localhost:8080/",
     "height": 108
    },
    "colab_type": "code",
    "id": "RDLk_4edCUVx",
    "outputId": "dfc0a293-382a-4e7f-ab96-d534d82cdae8"
   },
   "outputs": [
    {
     "data": {
      "text/plain": [
       "Overall\n",
       "Negative     22\n",
       "Neutral     390\n",
       "Positive    210\n",
       "Name: Overall, dtype: int64"
      ]
     },
     "execution_count": 160,
     "metadata": {
      "tags": []
     },
     "output_type": "execute_result"
    }
   ],
   "source": [
    "result_aws.groupby('Overall')['Overall'].count()"
   ]
  },
  {
   "cell_type": "code",
   "execution_count": 0,
   "metadata": {
    "colab": {},
    "colab_type": "code",
    "id": "stgIzLqOD5tA"
   },
   "outputs": [],
   "source": [
    "y_true = Man_Senti['Sentiment']\n",
    "y_pred_aws = result_aws['Overall']\n",
    "\n",
    "class_names = ['Positive', 'Negative', 'Neutral']"
   ]
  },
  {
   "cell_type": "code",
   "execution_count": 174,
   "metadata": {
    "colab": {
     "base_uri": "https://localhost:8080/",
     "height": 633
    },
    "colab_type": "code",
    "id": "5UUtlwsLC0AZ",
    "outputId": "e456fba7-b542-4ae1-9bf5-fcc7b72bfb7a"
   },
   "outputs": [
    {
     "name": "stdout",
     "output_type": "stream",
     "text": [
      "Accuracy Score:  0.43086816720257237\n",
      "Predicted  Negative  Neutral  Positive  __all__\n",
      "Actual                                         \n",
      "Negative          4       49         9       62\n",
      "Neutral          12      147        84      243\n",
      "Positive          6      194       117      317\n",
      "__all__          22      390       210      622\n"
     ]
    },
    {
     "data": {
      "image/png": "[encoded data removed]",
      "text/plain": [
       "<matplotlib.figure.Figure at 0x7fdb1b9142e8>"
      ]
     },
     "metadata": {
      "tags": []
     },
     "output_type": "display_data"
    }
   ],
   "source": [
    "#from sklearn.metrics import confusion_matrix\n",
    "#!pip install pandas_ml\n",
    "from pandas_ml import ConfusionMatrix\n",
    "from sklearn.metrics import accuracy_score\n",
    "import seaborn as sn\n",
    "import matplotlib.pyplot as plt\n",
    "\n",
    "# Compute confusion matrix with Manual Sentiment analysis and result from AWS API:\n",
    "\n",
    "cnf_matrix_aws = ConfusionMatrix(y_true, y_pred_aws)\n",
    "acc_score_aws = accuracy_score(y_true, y_pred_aws)\n",
    "\n",
    "\n",
    "print('Accuracy Score: ', acc_score_aws)\n",
    "\n",
    "print(cnf_matrix_aws)\n",
    "\n",
    "cnf_matrix_aws.plot()\n",
    "plt.set_cmap()\n",
    "plt.show()"
   ]
  },
  {
   "cell_type": "code",
   "execution_count": 175,
   "metadata": {
    "colab": {
     "base_uri": "https://localhost:8080/",
     "height": 198
    },
    "colab_type": "code",
    "id": "8IrSXE9gEdYh",
    "outputId": "492b7345-f720-4d29-fdce-78d48716cf01"
   },
   "outputs": [
    {
     "data": {
      "text/html": [
       "<div>\n",
       "<style scoped>\n",
       "    .dataframe tbody tr th:only-of-type {\n",
       "        vertical-align: middle;\n",
       "    }\n",
       "\n",
       "    .dataframe tbody tr th {\n",
       "        vertical-align: top;\n",
       "    }\n",
       "\n",
       "    .dataframe thead th {\n",
       "        text-align: right;\n",
       "    }\n",
       "</style>\n",
       "<table border=\"1\" class=\"dataframe\">\n",
       "  <thead>\n",
       "    <tr style=\"text-align: right;\">\n",
       "      <th></th>\n",
       "      <th>Text_ID</th>\n",
       "      <th>API</th>\n",
       "      <th>Overall_Score</th>\n",
       "    </tr>\n",
       "  </thead>\n",
       "  <tbody>\n",
       "    <tr>\n",
       "      <th>0</th>\n",
       "      <td>1</td>\n",
       "      <td>Azure</td>\n",
       "      <td>0.500000</td>\n",
       "    </tr>\n",
       "    <tr>\n",
       "      <th>1</th>\n",
       "      <td>2</td>\n",
       "      <td>Azure</td>\n",
       "      <td>0.891742</td>\n",
       "    </tr>\n",
       "    <tr>\n",
       "      <th>2</th>\n",
       "      <td>3</td>\n",
       "      <td>Azure</td>\n",
       "      <td>0.500000</td>\n",
       "    </tr>\n",
       "    <tr>\n",
       "      <th>3</th>\n",
       "      <td>4</td>\n",
       "      <td>Azure</td>\n",
       "      <td>0.500000</td>\n",
       "    </tr>\n",
       "    <tr>\n",
       "      <th>4</th>\n",
       "      <td>5</td>\n",
       "      <td>Azure</td>\n",
       "      <td>0.500000</td>\n",
       "    </tr>\n",
       "  </tbody>\n",
       "</table>\n",
       "</div>"
      ],
      "text/plain": [
       "  Text_ID    API  Overall_Score\n",
       "0       1  Azure       0.500000\n",
       "1       2  Azure       0.891742\n",
       "2       3  Azure       0.500000\n",
       "3       4  Azure       0.500000\n",
       "4       5  Azure       0.500000"
      ]
     },
     "execution_count": 175,
     "metadata": {
      "tags": []
     },
     "output_type": "execute_result"
    }
   ],
   "source": [
    "# Now lets generalize the Microsoft Azure API result:\n",
    "\n",
    "result_azure.head()"
   ]
  },
  {
   "cell_type": "code",
   "execution_count": 180,
   "metadata": {
    "colab": {
     "base_uri": "https://localhost:8080/",
     "height": 288
    },
    "colab_type": "code",
    "id": "X3VXKWqgMN2y",
    "outputId": "11a7d87e-d37e-44cb-cd40-de4eee99d75f"
   },
   "outputs": [
    {
     "data": {
      "text/html": [
       "<div>\n",
       "<style scoped>\n",
       "    .dataframe tbody tr th:only-of-type {\n",
       "        vertical-align: middle;\n",
       "    }\n",
       "\n",
       "    .dataframe tbody tr th {\n",
       "        vertical-align: top;\n",
       "    }\n",
       "\n",
       "    .dataframe thead th {\n",
       "        text-align: right;\n",
       "    }\n",
       "</style>\n",
       "<table border=\"1\" class=\"dataframe\">\n",
       "  <thead>\n",
       "    <tr style=\"text-align: right;\">\n",
       "      <th></th>\n",
       "      <th>Overall_Score</th>\n",
       "    </tr>\n",
       "  </thead>\n",
       "  <tbody>\n",
       "    <tr>\n",
       "      <th>count</th>\n",
       "      <td>622.000000</td>\n",
       "    </tr>\n",
       "    <tr>\n",
       "      <th>mean</th>\n",
       "      <td>0.679342</td>\n",
       "    </tr>\n",
       "    <tr>\n",
       "      <th>std</th>\n",
       "      <td>0.214881</td>\n",
       "    </tr>\n",
       "    <tr>\n",
       "      <th>min</th>\n",
       "      <td>0.073598</td>\n",
       "    </tr>\n",
       "    <tr>\n",
       "      <th>25%</th>\n",
       "      <td>0.500000</td>\n",
       "    </tr>\n",
       "    <tr>\n",
       "      <th>50%</th>\n",
       "      <td>0.728271</td>\n",
       "    </tr>\n",
       "    <tr>\n",
       "      <th>75%</th>\n",
       "      <td>0.891567</td>\n",
       "    </tr>\n",
       "    <tr>\n",
       "      <th>max</th>\n",
       "      <td>0.996237</td>\n",
       "    </tr>\n",
       "  </tbody>\n",
       "</table>\n",
       "</div>"
      ],
      "text/plain": [
       "       Overall_Score\n",
       "count     622.000000\n",
       "mean        0.679342\n",
       "std         0.214881\n",
       "min         0.073598\n",
       "25%         0.500000\n",
       "50%         0.728271\n",
       "75%         0.891567\n",
       "max         0.996237"
      ]
     },
     "execution_count": 180,
     "metadata": {
      "tags": []
     },
     "output_type": "execute_result"
    }
   ],
   "source": [
    "result_azure.describe()"
   ]
  },
  {
   "cell_type": "code",
   "execution_count": 0,
   "metadata": {
    "colab": {},
    "colab_type": "code",
    "id": "9KlQRD0-ODbY"
   },
   "outputs": [],
   "source": [
    "result_azure['Sentiment_Azure'] = 'Neutral'"
   ]
  },
  {
   "cell_type": "code",
   "execution_count": 0,
   "metadata": {
    "colab": {},
    "colab_type": "code",
    "id": "YOwLz0F3Jvlj"
   },
   "outputs": [],
   "source": [
    "result_azure.loc[result_azure['Overall_Score'] > 0.55, 'Sentiment_Azure'] = 'Positive'\n",
    "result_azure.loc[result_azure['Overall_Score'] < 0.45, 'Sentiment_Azure'] = 'Negative'"
   ]
  },
  {
   "cell_type": "code",
   "execution_count": 186,
   "metadata": {
    "colab": {
     "base_uri": "https://localhost:8080/",
     "height": 198
    },
    "colab_type": "code",
    "id": "RLb6RJIpLxtk",
    "outputId": "47ff630e-b315-46d4-e1d1-9a5c93538470"
   },
   "outputs": [
    {
     "data": {
      "text/html": [
       "<div>\n",
       "<style scoped>\n",
       "    .dataframe tbody tr th:only-of-type {\n",
       "        vertical-align: middle;\n",
       "    }\n",
       "\n",
       "    .dataframe tbody tr th {\n",
       "        vertical-align: top;\n",
       "    }\n",
       "\n",
       "    .dataframe thead th {\n",
       "        text-align: right;\n",
       "    }\n",
       "</style>\n",
       "<table border=\"1\" class=\"dataframe\">\n",
       "  <thead>\n",
       "    <tr style=\"text-align: right;\">\n",
       "      <th></th>\n",
       "      <th>Text_ID</th>\n",
       "      <th>API</th>\n",
       "      <th>Overall_Score</th>\n",
       "      <th>Sentiment_Azure</th>\n",
       "    </tr>\n",
       "  </thead>\n",
       "  <tbody>\n",
       "    <tr>\n",
       "      <th>0</th>\n",
       "      <td>1</td>\n",
       "      <td>Azure</td>\n",
       "      <td>0.500000</td>\n",
       "      <td>Neutral</td>\n",
       "    </tr>\n",
       "    <tr>\n",
       "      <th>1</th>\n",
       "      <td>2</td>\n",
       "      <td>Azure</td>\n",
       "      <td>0.891742</td>\n",
       "      <td>Positive</td>\n",
       "    </tr>\n",
       "    <tr>\n",
       "      <th>2</th>\n",
       "      <td>3</td>\n",
       "      <td>Azure</td>\n",
       "      <td>0.500000</td>\n",
       "      <td>Neutral</td>\n",
       "    </tr>\n",
       "    <tr>\n",
       "      <th>3</th>\n",
       "      <td>4</td>\n",
       "      <td>Azure</td>\n",
       "      <td>0.500000</td>\n",
       "      <td>Neutral</td>\n",
       "    </tr>\n",
       "    <tr>\n",
       "      <th>4</th>\n",
       "      <td>5</td>\n",
       "      <td>Azure</td>\n",
       "      <td>0.500000</td>\n",
       "      <td>Neutral</td>\n",
       "    </tr>\n",
       "  </tbody>\n",
       "</table>\n",
       "</div>"
      ],
      "text/plain": [
       "  Text_ID    API  Overall_Score Sentiment_Azure\n",
       "0       1  Azure       0.500000         Neutral\n",
       "1       2  Azure       0.891742        Positive\n",
       "2       3  Azure       0.500000         Neutral\n",
       "3       4  Azure       0.500000         Neutral\n",
       "4       5  Azure       0.500000         Neutral"
      ]
     },
     "execution_count": 186,
     "metadata": {
      "tags": []
     },
     "output_type": "execute_result"
    }
   ],
   "source": [
    "result_azure.head()"
   ]
  },
  {
   "cell_type": "code",
   "execution_count": 188,
   "metadata": {
    "colab": {
     "base_uri": "https://localhost:8080/",
     "height": 108
    },
    "colab_type": "code",
    "id": "gS_15kHOShiB",
    "outputId": "b22e88af-67b1-4feb-c670-94733d551ee1"
   },
   "outputs": [
    {
     "data": {
      "text/plain": [
       "Sentiment_Azure\n",
       "Negative     27\n",
       "Neutral     276\n",
       "Positive    319\n",
       "Name: Sentiment_Azure, dtype: int64"
      ]
     },
     "execution_count": 188,
     "metadata": {
      "tags": []
     },
     "output_type": "execute_result"
    }
   ],
   "source": [
    "result_azure.groupby('Sentiment_Azure')['Sentiment_Azure'].count()"
   ]
  },
  {
   "cell_type": "code",
   "execution_count": 0,
   "metadata": {
    "colab": {},
    "colab_type": "code",
    "id": "G4guyeaeSnJ2"
   },
   "outputs": [],
   "source": [
    "y_pred_azure = result_azure['Sentiment_Azure']"
   ]
  },
  {
   "cell_type": "code",
   "execution_count": 191,
   "metadata": {
    "colab": {
     "base_uri": "https://localhost:8080/",
     "height": 633
    },
    "colab_type": "code",
    "id": "mjkm7xRcS6QE",
    "outputId": "d042ff4d-9b82-478e-d1ab-680b766ca3e9"
   },
   "outputs": [
    {
     "name": "stdout",
     "output_type": "stream",
     "text": [
      "Accuracy Score:  0.45980707395498394\n",
      "Predicted  Negative  Neutral  Positive  __all__\n",
      "Actual                                         \n",
      "Negative          9       35        18       62\n",
      "Neutral           5      107       131      243\n",
      "Positive         13      134       170      317\n",
      "__all__          27      276       319      622\n"
     ]
    },
    {
     "data": {
      "image/png": "[encoded data removed]",
      "text/plain": [
       "<matplotlib.figure.Figure at 0x7fdb18fdebe0>"
      ]
     },
     "metadata": {
      "tags": []
     },
     "output_type": "display_data"
    }
   ],
   "source": [
    "cnf_matrix_azure = ConfusionMatrix(y_true, y_pred_azure)\n",
    "acc_score_azure = accuracy_score(y_true, y_pred_azure)\n",
    "\n",
    "\n",
    "print('Accuracy Score: ', acc_score_azure)\n",
    "\n",
    "print(cnf_matrix_azure)\n",
    "\n",
    "cnf_matrix_azure.plot()\n",
    "plt.show()"
   ]
  },
  {
   "cell_type": "code",
   "execution_count": 192,
   "metadata": {
    "colab": {
     "base_uri": "https://localhost:8080/",
     "height": 198
    },
    "colab_type": "code",
    "id": "lmZVJFj2TIMM",
    "outputId": "2b40865c-ff11-469f-c925-eb340aedf31f"
   },
   "outputs": [
    {
     "data": {
      "text/html": [
       "<div>\n",
       "<style scoped>\n",
       "    .dataframe tbody tr th:only-of-type {\n",
       "        vertical-align: middle;\n",
       "    }\n",
       "\n",
       "    .dataframe tbody tr th {\n",
       "        vertical-align: top;\n",
       "    }\n",
       "\n",
       "    .dataframe thead th {\n",
       "        text-align: right;\n",
       "    }\n",
       "</style>\n",
       "<table border=\"1\" class=\"dataframe\">\n",
       "  <thead>\n",
       "    <tr style=\"text-align: right;\">\n",
       "      <th></th>\n",
       "      <th>Text_ID</th>\n",
       "      <th>API</th>\n",
       "      <th>Overall</th>\n",
       "      <th>Score</th>\n",
       "    </tr>\n",
       "  </thead>\n",
       "  <tbody>\n",
       "    <tr>\n",
       "      <th>0</th>\n",
       "      <td>1</td>\n",
       "      <td>IBM</td>\n",
       "      <td>neutral</td>\n",
       "      <td>0.000000</td>\n",
       "    </tr>\n",
       "    <tr>\n",
       "      <th>1</th>\n",
       "      <td>2</td>\n",
       "      <td>IBM</td>\n",
       "      <td>positive</td>\n",
       "      <td>0.750129</td>\n",
       "    </tr>\n",
       "    <tr>\n",
       "      <th>2</th>\n",
       "      <td>3</td>\n",
       "      <td>IBM</td>\n",
       "      <td>positive</td>\n",
       "      <td>0.476440</td>\n",
       "    </tr>\n",
       "    <tr>\n",
       "      <th>3</th>\n",
       "      <td>4</td>\n",
       "      <td>IBM</td>\n",
       "      <td>positive</td>\n",
       "      <td>0.678515</td>\n",
       "    </tr>\n",
       "    <tr>\n",
       "      <th>4</th>\n",
       "      <td>5</td>\n",
       "      <td>IBM</td>\n",
       "      <td>positive</td>\n",
       "      <td>0.437226</td>\n",
       "    </tr>\n",
       "  </tbody>\n",
       "</table>\n",
       "</div>"
      ],
      "text/plain": [
       "   Text_ID  API   Overall     Score\n",
       "0        1  IBM   neutral  0.000000\n",
       "1        2  IBM  positive  0.750129\n",
       "2        3  IBM  positive  0.476440\n",
       "3        4  IBM  positive  0.678515\n",
       "4        5  IBM  positive  0.437226"
      ]
     },
     "execution_count": 192,
     "metadata": {
      "tags": []
     },
     "output_type": "execute_result"
    }
   ],
   "source": [
    "#Now we will normalize the sentiment result from IBM API:\n",
    "result_ibm.head()"
   ]
  },
  {
   "cell_type": "code",
   "execution_count": 193,
   "metadata": {
    "colab": {
     "base_uri": "https://localhost:8080/",
     "height": 288
    },
    "colab_type": "code",
    "id": "G6-BY18aTkjU",
    "outputId": "8b6d4096-e7c0-464e-a74e-168514ee5b33"
   },
   "outputs": [
    {
     "data": {
      "text/html": [
       "<div>\n",
       "<style scoped>\n",
       "    .dataframe tbody tr th:only-of-type {\n",
       "        vertical-align: middle;\n",
       "    }\n",
       "\n",
       "    .dataframe tbody tr th {\n",
       "        vertical-align: top;\n",
       "    }\n",
       "\n",
       "    .dataframe thead th {\n",
       "        text-align: right;\n",
       "    }\n",
       "</style>\n",
       "<table border=\"1\" class=\"dataframe\">\n",
       "  <thead>\n",
       "    <tr style=\"text-align: right;\">\n",
       "      <th></th>\n",
       "      <th>Text_ID</th>\n",
       "      <th>Score</th>\n",
       "    </tr>\n",
       "  </thead>\n",
       "  <tbody>\n",
       "    <tr>\n",
       "      <th>count</th>\n",
       "      <td>622.000000</td>\n",
       "      <td>622.000000</td>\n",
       "    </tr>\n",
       "    <tr>\n",
       "      <th>mean</th>\n",
       "      <td>311.500000</td>\n",
       "      <td>0.592201</td>\n",
       "    </tr>\n",
       "    <tr>\n",
       "      <th>std</th>\n",
       "      <td>179.700213</td>\n",
       "      <td>0.419350</td>\n",
       "    </tr>\n",
       "    <tr>\n",
       "      <th>min</th>\n",
       "      <td>1.000000</td>\n",
       "      <td>-0.906956</td>\n",
       "    </tr>\n",
       "    <tr>\n",
       "      <th>25%</th>\n",
       "      <td>156.250000</td>\n",
       "      <td>0.512123</td>\n",
       "    </tr>\n",
       "    <tr>\n",
       "      <th>50%</th>\n",
       "      <td>311.500000</td>\n",
       "      <td>0.730927</td>\n",
       "    </tr>\n",
       "    <tr>\n",
       "      <th>75%</th>\n",
       "      <td>466.750000</td>\n",
       "      <td>0.866308</td>\n",
       "    </tr>\n",
       "    <tr>\n",
       "      <th>max</th>\n",
       "      <td>622.000000</td>\n",
       "      <td>0.999878</td>\n",
       "    </tr>\n",
       "  </tbody>\n",
       "</table>\n",
       "</div>"
      ],
      "text/plain": [
       "          Text_ID       Score\n",
       "count  622.000000  622.000000\n",
       "mean   311.500000    0.592201\n",
       "std    179.700213    0.419350\n",
       "min      1.000000   -0.906956\n",
       "25%    156.250000    0.512123\n",
       "50%    311.500000    0.730927\n",
       "75%    466.750000    0.866308\n",
       "max    622.000000    0.999878"
      ]
     },
     "execution_count": 193,
     "metadata": {
      "tags": []
     },
     "output_type": "execute_result"
    }
   ],
   "source": [
    "result_ibm.describe()"
   ]
  },
  {
   "cell_type": "code",
   "execution_count": 195,
   "metadata": {
    "colab": {
     "base_uri": "https://localhost:8080/",
     "height": 108
    },
    "colab_type": "code",
    "id": "x7FW4wWrTp45",
    "outputId": "9dec6ba3-e95e-4fa3-b7be-9ea5f721096d"
   },
   "outputs": [
    {
     "data": {
      "text/plain": [
       "Overall\n",
       "negative     60\n",
       "neutral      21\n",
       "positive    541\n",
       "Name: Overall, dtype: int64"
      ]
     },
     "execution_count": 195,
     "metadata": {
      "tags": []
     },
     "output_type": "execute_result"
    }
   ],
   "source": [
    "result_ibm.groupby('Overall')['Overall'].count()"
   ]
  },
  {
   "cell_type": "code",
   "execution_count": 199,
   "metadata": {
    "colab": {
     "base_uri": "https://localhost:8080/",
     "height": 35
    },
    "colab_type": "code",
    "id": "0y5tMWmNUiYT",
    "outputId": "77304f4a-26ac-4aa1-b339-5821df8c9e70"
   },
   "outputs": [
    {
     "data": {
      "text/plain": [
       "array(['neutral', 'positive', 'negative'], dtype=object)"
      ]
     },
     "execution_count": 199,
     "metadata": {
      "tags": []
     },
     "output_type": "execute_result"
    }
   ],
   "source": [
    "result_ibm.Overall.unique()"
   ]
  },
  {
   "cell_type": "code",
   "execution_count": 0,
   "metadata": {
    "colab": {},
    "colab_type": "code",
    "id": "c9fiWgXnUmEj"
   },
   "outputs": [],
   "source": [
    "result_ibm['Overall'] = result_ibm['Overall'].apply({'neutral':'Neutral', 'positive':'Positive', 'negative':'Negative'}.get)"
   ]
  },
  {
   "cell_type": "code",
   "execution_count": 201,
   "metadata": {
    "colab": {
     "base_uri": "https://localhost:8080/",
     "height": 35
    },
    "colab_type": "code",
    "id": "gnN_5QzlU2IG",
    "outputId": "9f5b12ed-3461-4605-918b-d30b7b2e0d44"
   },
   "outputs": [
    {
     "data": {
      "text/plain": [
       "array(['Neutral', 'Positive', 'Negative'], dtype=object)"
      ]
     },
     "execution_count": 201,
     "metadata": {
      "tags": []
     },
     "output_type": "execute_result"
    }
   ],
   "source": [
    "result_ibm.Overall.unique()"
   ]
  },
  {
   "cell_type": "code",
   "execution_count": 0,
   "metadata": {
    "colab": {},
    "colab_type": "code",
    "id": "uL4GnyDYT_De"
   },
   "outputs": [],
   "source": [
    "y_pred_ibm = result_ibm['Overall']"
   ]
  },
  {
   "cell_type": "code",
   "execution_count": 203,
   "metadata": {
    "colab": {
     "base_uri": "https://localhost:8080/",
     "height": 633
    },
    "colab_type": "code",
    "id": "U0y8W0LxUJhP",
    "outputId": "0b656ec8-0b56-4e4d-8cbb-27e35130948b"
   },
   "outputs": [
    {
     "name": "stdout",
     "output_type": "stream",
     "text": [
      "Accuracy Score:  0.5289389067524116\n",
      "Predicted  Negative  Neutral  Positive  __all__\n",
      "Actual                                         \n",
      "Negative         18        0        44       62\n",
      "Neutral          17       20       206      243\n",
      "Positive         25        1       291      317\n",
      "__all__          60       21       541      622\n"
     ]
    },
    {
     "data": {
      "image/png": "[encoded data removed]",
      "text/plain": [
       "<matplotlib.figure.Figure at 0x7fdb18ebd320>"
      ]
     },
     "metadata": {
      "tags": []
     },
     "output_type": "display_data"
    }
   ],
   "source": [
    "cnf_matrix_ibm = ConfusionMatrix(y_true, y_pred_ibm)\n",
    "acc_score_ibm = accuracy_score(y_true, y_pred_ibm)\n",
    "\n",
    "\n",
    "print('Accuracy Score: ', acc_score_ibm)\n",
    "\n",
    "print(cnf_matrix_ibm)\n",
    "\n",
    "cnf_matrix_ibm.plot()\n",
    "plt.show()"
   ]
  },
  {
   "cell_type": "code",
   "execution_count": 204,
   "metadata": {
    "colab": {
     "base_uri": "https://localhost:8080/",
     "height": 198
    },
    "colab_type": "code",
    "id": "7RbjXApoUUMu",
    "outputId": "5554a7ac-44d4-431f-be7b-57c17212c66b"
   },
   "outputs": [
    {
     "data": {
      "text/html": [
       "<div>\n",
       "<style scoped>\n",
       "    .dataframe tbody tr th:only-of-type {\n",
       "        vertical-align: middle;\n",
       "    }\n",
       "\n",
       "    .dataframe tbody tr th {\n",
       "        vertical-align: top;\n",
       "    }\n",
       "\n",
       "    .dataframe thead th {\n",
       "        text-align: right;\n",
       "    }\n",
       "</style>\n",
       "<table border=\"1\" class=\"dataframe\">\n",
       "  <thead>\n",
       "    <tr style=\"text-align: right;\">\n",
       "      <th></th>\n",
       "      <th>Text_ID</th>\n",
       "      <th>API</th>\n",
       "      <th>Magnitude</th>\n",
       "      <th>Score</th>\n",
       "    </tr>\n",
       "  </thead>\n",
       "  <tbody>\n",
       "    <tr>\n",
       "      <th>0</th>\n",
       "      <td>1</td>\n",
       "      <td>GCP</td>\n",
       "      <td>0.0</td>\n",
       "      <td>0.0</td>\n",
       "    </tr>\n",
       "    <tr>\n",
       "      <th>1</th>\n",
       "      <td>2</td>\n",
       "      <td>GCP</td>\n",
       "      <td>0.9</td>\n",
       "      <td>0.1</td>\n",
       "    </tr>\n",
       "    <tr>\n",
       "      <th>2</th>\n",
       "      <td>3</td>\n",
       "      <td>GCP</td>\n",
       "      <td>0.0</td>\n",
       "      <td>0.0</td>\n",
       "    </tr>\n",
       "    <tr>\n",
       "      <th>3</th>\n",
       "      <td>4</td>\n",
       "      <td>GCP</td>\n",
       "      <td>1.2</td>\n",
       "      <td>0.3</td>\n",
       "    </tr>\n",
       "    <tr>\n",
       "      <th>4</th>\n",
       "      <td>5</td>\n",
       "      <td>GCP</td>\n",
       "      <td>0.2</td>\n",
       "      <td>0.0</td>\n",
       "    </tr>\n",
       "  </tbody>\n",
       "</table>\n",
       "</div>"
      ],
      "text/plain": [
       "   Text_ID  API  Magnitude  Score\n",
       "0        1  GCP        0.0    0.0\n",
       "1        2  GCP        0.9    0.1\n",
       "2        3  GCP        0.0    0.0\n",
       "3        4  GCP        1.2    0.3\n",
       "4        5  GCP        0.2    0.0"
      ]
     },
     "execution_count": 204,
     "metadata": {
      "tags": []
     },
     "output_type": "execute_result"
    }
   ],
   "source": [
    "#Now we will normalize the sentiment score from Google API:\n",
    "result_gcp.head()"
   ]
  },
  {
   "cell_type": "code",
   "execution_count": 205,
   "metadata": {
    "colab": {
     "base_uri": "https://localhost:8080/",
     "height": 288
    },
    "colab_type": "code",
    "id": "4aV8RMnPVOKu",
    "outputId": "763be0ad-296b-4066-caf3-dd5a4faa7cac"
   },
   "outputs": [
    {
     "data": {
      "text/html": [
       "<div>\n",
       "<style scoped>\n",
       "    .dataframe tbody tr th:only-of-type {\n",
       "        vertical-align: middle;\n",
       "    }\n",
       "\n",
       "    .dataframe tbody tr th {\n",
       "        vertical-align: top;\n",
       "    }\n",
       "\n",
       "    .dataframe thead th {\n",
       "        text-align: right;\n",
       "    }\n",
       "</style>\n",
       "<table border=\"1\" class=\"dataframe\">\n",
       "  <thead>\n",
       "    <tr style=\"text-align: right;\">\n",
       "      <th></th>\n",
       "      <th>Text_ID</th>\n",
       "      <th>Magnitude</th>\n",
       "      <th>Score</th>\n",
       "    </tr>\n",
       "  </thead>\n",
       "  <tbody>\n",
       "    <tr>\n",
       "      <th>count</th>\n",
       "      <td>622.000000</td>\n",
       "      <td>622.000000</td>\n",
       "      <td>622.000000</td>\n",
       "    </tr>\n",
       "    <tr>\n",
       "      <th>mean</th>\n",
       "      <td>311.500000</td>\n",
       "      <td>1.126527</td>\n",
       "      <td>0.187460</td>\n",
       "    </tr>\n",
       "    <tr>\n",
       "      <th>std</th>\n",
       "      <td>179.700213</td>\n",
       "      <td>0.833413</td>\n",
       "      <td>0.234957</td>\n",
       "    </tr>\n",
       "    <tr>\n",
       "      <th>min</th>\n",
       "      <td>1.000000</td>\n",
       "      <td>0.000000</td>\n",
       "      <td>-0.700000</td>\n",
       "    </tr>\n",
       "    <tr>\n",
       "      <th>25%</th>\n",
       "      <td>156.250000</td>\n",
       "      <td>0.500000</td>\n",
       "      <td>0.000000</td>\n",
       "    </tr>\n",
       "    <tr>\n",
       "      <th>50%</th>\n",
       "      <td>311.500000</td>\n",
       "      <td>1.000000</td>\n",
       "      <td>0.200000</td>\n",
       "    </tr>\n",
       "    <tr>\n",
       "      <th>75%</th>\n",
       "      <td>466.750000</td>\n",
       "      <td>1.500000</td>\n",
       "      <td>0.300000</td>\n",
       "    </tr>\n",
       "    <tr>\n",
       "      <th>max</th>\n",
       "      <td>622.000000</td>\n",
       "      <td>4.700000</td>\n",
       "      <td>0.900000</td>\n",
       "    </tr>\n",
       "  </tbody>\n",
       "</table>\n",
       "</div>"
      ],
      "text/plain": [
       "          Text_ID   Magnitude       Score\n",
       "count  622.000000  622.000000  622.000000\n",
       "mean   311.500000    1.126527    0.187460\n",
       "std    179.700213    0.833413    0.234957\n",
       "min      1.000000    0.000000   -0.700000\n",
       "25%    156.250000    0.500000    0.000000\n",
       "50%    311.500000    1.000000    0.200000\n",
       "75%    466.750000    1.500000    0.300000\n",
       "max    622.000000    4.700000    0.900000"
      ]
     },
     "execution_count": 205,
     "metadata": {
      "tags": []
     },
     "output_type": "execute_result"
    }
   ],
   "source": [
    "#The magnitude shows the intensity or magnitude value of that sentence\n",
    "#A magnitude is a number ranging from 0 to infinity. It represents the weight of sentiment expressed in the statement, \n",
    "#regardless of being positive or negative. Longer blocks of text with heavily weighted statements have higher magnitude values.\n",
    "#The Sentiment score is a number and ranges from -1 to +1.\n",
    "\n",
    "result_gcp.describe()"
   ]
  },
  {
   "cell_type": "code",
   "execution_count": 208,
   "metadata": {
    "colab": {
     "base_uri": "https://localhost:8080/",
     "height": 379
    },
    "colab_type": "code",
    "id": "iKkxivPzXG5c",
    "outputId": "e45cf75e-8e0f-49da-aeca-d8fd1f70c595"
   },
   "outputs": [
    {
     "data": {
      "text/plain": [
       "<matplotlib.axes._subplots.AxesSubplot at 0x7fdb1b996978>"
      ]
     },
     "execution_count": 208,
     "metadata": {
      "tags": []
     },
     "output_type": "execute_result"
    },
    {
     "data": {
      "image/png": "[encoded data removed]",
      "text/plain": [
       "<matplotlib.figure.Figure at 0x7fdb1b9d8ef0>"
      ]
     },
     "metadata": {
      "tags": []
     },
     "output_type": "display_data"
    }
   ],
   "source": [
    "import seaborn as sns\n",
    "\n",
    "sns.distplot(result_gcp['Score'])"
   ]
  },
  {
   "cell_type": "markdown",
   "metadata": {
    "colab_type": "text",
    "id": "a6V29NmwWghR"
   },
   "source": [
    "#Conclusion:\n",
    "1. The Score mean is 0.187 which is less than 50 percentile of data.\n",
    "2. 75% of data has the less than 0.3\n",
    "3. Which implies that we need to make a good call to decide the threshold for the sentiment classification."
   ]
  },
  {
   "cell_type": "code",
   "execution_count": 0,
   "metadata": {
    "colab": {},
    "colab_type": "code",
    "id": "i7q8VHsfXFs5"
   },
   "outputs": [],
   "source": [
    "result_gcp['Sentiment_Google'] = 'Neutral'\n",
    "result_gcp.loc[result_gcp['Score'] > 0.2, 'Sentiment_Google'] = 'Positive'\n",
    "result_gcp.loc[result_gcp['Score'] < 0.0, 'Sentiment_Google'] = 'Negative'"
   ]
  },
  {
   "cell_type": "code",
   "execution_count": 211,
   "metadata": {
    "colab": {
     "base_uri": "https://localhost:8080/",
     "height": 198
    },
    "colab_type": "code",
    "id": "aBHoRKmkYwTo",
    "outputId": "16048f95-bc47-45b2-8040-bb7bf0092cfc"
   },
   "outputs": [
    {
     "data": {
      "text/html": [
       "<div>\n",
       "<style scoped>\n",
       "    .dataframe tbody tr th:only-of-type {\n",
       "        vertical-align: middle;\n",
       "    }\n",
       "\n",
       "    .dataframe tbody tr th {\n",
       "        vertical-align: top;\n",
       "    }\n",
       "\n",
       "    .dataframe thead th {\n",
       "        text-align: right;\n",
       "    }\n",
       "</style>\n",
       "<table border=\"1\" class=\"dataframe\">\n",
       "  <thead>\n",
       "    <tr style=\"text-align: right;\">\n",
       "      <th></th>\n",
       "      <th>Text_ID</th>\n",
       "      <th>API</th>\n",
       "      <th>Magnitude</th>\n",
       "      <th>Score</th>\n",
       "      <th>Sentiment_Google</th>\n",
       "    </tr>\n",
       "  </thead>\n",
       "  <tbody>\n",
       "    <tr>\n",
       "      <th>0</th>\n",
       "      <td>1</td>\n",
       "      <td>GCP</td>\n",
       "      <td>0.0</td>\n",
       "      <td>0.0</td>\n",
       "      <td>Neutral</td>\n",
       "    </tr>\n",
       "    <tr>\n",
       "      <th>1</th>\n",
       "      <td>2</td>\n",
       "      <td>GCP</td>\n",
       "      <td>0.9</td>\n",
       "      <td>0.1</td>\n",
       "      <td>Neutral</td>\n",
       "    </tr>\n",
       "    <tr>\n",
       "      <th>2</th>\n",
       "      <td>3</td>\n",
       "      <td>GCP</td>\n",
       "      <td>0.0</td>\n",
       "      <td>0.0</td>\n",
       "      <td>Neutral</td>\n",
       "    </tr>\n",
       "    <tr>\n",
       "      <th>3</th>\n",
       "      <td>4</td>\n",
       "      <td>GCP</td>\n",
       "      <td>1.2</td>\n",
       "      <td>0.3</td>\n",
       "      <td>Positive</td>\n",
       "    </tr>\n",
       "    <tr>\n",
       "      <th>4</th>\n",
       "      <td>5</td>\n",
       "      <td>GCP</td>\n",
       "      <td>0.2</td>\n",
       "      <td>0.0</td>\n",
       "      <td>Neutral</td>\n",
       "    </tr>\n",
       "  </tbody>\n",
       "</table>\n",
       "</div>"
      ],
      "text/plain": [
       "   Text_ID  API  Magnitude  Score Sentiment_Google\n",
       "0        1  GCP        0.0    0.0          Neutral\n",
       "1        2  GCP        0.9    0.1          Neutral\n",
       "2        3  GCP        0.0    0.0          Neutral\n",
       "3        4  GCP        1.2    0.3         Positive\n",
       "4        5  GCP        0.2    0.0          Neutral"
      ]
     },
     "execution_count": 211,
     "metadata": {
      "tags": []
     },
     "output_type": "execute_result"
    }
   ],
   "source": [
    "result_gcp.head()"
   ]
  },
  {
   "cell_type": "code",
   "execution_count": 212,
   "metadata": {
    "colab": {
     "base_uri": "https://localhost:8080/",
     "height": 108
    },
    "colab_type": "code",
    "id": "awp_W7ozY2QB",
    "outputId": "79d9f61d-70aa-4bcb-aebc-b764eb1700c8"
   },
   "outputs": [
    {
     "data": {
      "text/plain": [
       "Sentiment_Google\n",
       "Negative     59\n",
       "Neutral     240\n",
       "Positive    323\n",
       "Name: Sentiment_Google, dtype: int64"
      ]
     },
     "execution_count": 212,
     "metadata": {
      "tags": []
     },
     "output_type": "execute_result"
    }
   ],
   "source": [
    "result_gcp.groupby('Sentiment_Google')['Sentiment_Google'].count()"
   ]
  },
  {
   "cell_type": "code",
   "execution_count": 0,
   "metadata": {
    "colab": {},
    "colab_type": "code",
    "id": "zXlDfitpY_xQ"
   },
   "outputs": [],
   "source": [
    "y_pred_gcp = result_gcp['Sentiment_Google']"
   ]
  },
  {
   "cell_type": "code",
   "execution_count": 214,
   "metadata": {
    "colab": {
     "base_uri": "https://localhost:8080/",
     "height": 633
    },
    "colab_type": "code",
    "id": "lVAoOaSQZLh0",
    "outputId": "c4ed5d17-3a2b-4cdf-cb08-7418cdfc001b"
   },
   "outputs": [
    {
     "name": "stdout",
     "output_type": "stream",
     "text": [
      "Accuracy Score:  0.5401929260450161\n",
      "Predicted  Negative  Neutral  Positive  __all__\n",
      "Actual                                         \n",
      "Negative          8       34        20       62\n",
      "Neutral          24      122        97      243\n",
      "Positive         27       84       206      317\n",
      "__all__          59      240       323      622\n"
     ]
    },
    {
     "data": {
      "image/png": "[encoded data removed]",
      "text/plain": [
       "<matplotlib.figure.Figure at 0x7fdb18f2c588>"
      ]
     },
     "metadata": {
      "tags": []
     },
     "output_type": "display_data"
    }
   ],
   "source": [
    "cnf_matrix_gcp = ConfusionMatrix(y_true, y_pred_gcp)\n",
    "acc_score_gcp = accuracy_score(y_true, y_pred_gcp)\n",
    "\n",
    "\n",
    "print('Accuracy Score: ', acc_score_gcp)\n",
    "\n",
    "print(cnf_matrix_gcp)\n",
    "\n",
    "cnf_matrix_gcp.plot()\n",
    "plt.show()"
   ]
  },
  {
   "cell_type": "code",
   "execution_count": 215,
   "metadata": {
    "colab": {
     "base_uri": "https://localhost:8080/",
     "height": 198
    },
    "colab_type": "code",
    "id": "AvMBIP4fZcbg",
    "outputId": "11720e42-a00c-46cf-f80f-091b0c099d7f"
   },
   "outputs": [
    {
     "data": {
      "text/html": [
       "<div>\n",
       "<style scoped>\n",
       "    .dataframe tbody tr th:only-of-type {\n",
       "        vertical-align: middle;\n",
       "    }\n",
       "\n",
       "    .dataframe tbody tr th {\n",
       "        vertical-align: top;\n",
       "    }\n",
       "\n",
       "    .dataframe thead th {\n",
       "        text-align: right;\n",
       "    }\n",
       "</style>\n",
       "<table border=\"1\" class=\"dataframe\">\n",
       "  <thead>\n",
       "    <tr style=\"text-align: right;\">\n",
       "      <th></th>\n",
       "      <th>Text_ID</th>\n",
       "      <th>API</th>\n",
       "      <th>Overall_Score</th>\n",
       "      <th>Negative_Score</th>\n",
       "      <th>Neutral_Score</th>\n",
       "      <th>Positive_Score</th>\n",
       "    </tr>\n",
       "  </thead>\n",
       "  <tbody>\n",
       "    <tr>\n",
       "      <th>0</th>\n",
       "      <td>1</td>\n",
       "      <td>Vader</td>\n",
       "      <td>0.0000</td>\n",
       "      <td>0.0</td>\n",
       "      <td>1.000</td>\n",
       "      <td>0.000</td>\n",
       "    </tr>\n",
       "    <tr>\n",
       "      <th>1</th>\n",
       "      <td>2</td>\n",
       "      <td>Vader</td>\n",
       "      <td>0.7096</td>\n",
       "      <td>0.0</td>\n",
       "      <td>0.848</td>\n",
       "      <td>0.152</td>\n",
       "    </tr>\n",
       "    <tr>\n",
       "      <th>2</th>\n",
       "      <td>3</td>\n",
       "      <td>Vader</td>\n",
       "      <td>0.3182</td>\n",
       "      <td>0.0</td>\n",
       "      <td>0.892</td>\n",
       "      <td>0.108</td>\n",
       "    </tr>\n",
       "    <tr>\n",
       "      <th>3</th>\n",
       "      <td>4</td>\n",
       "      <td>Vader</td>\n",
       "      <td>0.8658</td>\n",
       "      <td>0.0</td>\n",
       "      <td>0.872</td>\n",
       "      <td>0.128</td>\n",
       "    </tr>\n",
       "    <tr>\n",
       "      <th>4</th>\n",
       "      <td>5</td>\n",
       "      <td>Vader</td>\n",
       "      <td>0.0000</td>\n",
       "      <td>0.0</td>\n",
       "      <td>1.000</td>\n",
       "      <td>0.000</td>\n",
       "    </tr>\n",
       "  </tbody>\n",
       "</table>\n",
       "</div>"
      ],
      "text/plain": [
       "   Text_ID    API  Overall_Score  Negative_Score  Neutral_Score  \\\n",
       "0        1  Vader         0.0000             0.0          1.000   \n",
       "1        2  Vader         0.7096             0.0          0.848   \n",
       "2        3  Vader         0.3182             0.0          0.892   \n",
       "3        4  Vader         0.8658             0.0          0.872   \n",
       "4        5  Vader         0.0000             0.0          1.000   \n",
       "\n",
       "   Positive_Score  \n",
       "0           0.000  \n",
       "1           0.152  \n",
       "2           0.108  \n",
       "3           0.128  \n",
       "4           0.000  "
      ]
     },
     "execution_count": 215,
     "metadata": {
      "tags": []
     },
     "output_type": "execute_result"
    }
   ],
   "source": [
    "#Now we will normalize the sentiment result from the Vader API:\n",
    "result_vader.head()"
   ]
  },
  {
   "cell_type": "code",
   "execution_count": 216,
   "metadata": {
    "colab": {
     "base_uri": "https://localhost:8080/",
     "height": 288
    },
    "colab_type": "code",
    "id": "ityDP3nhZ9y_",
    "outputId": "a4c5e818-4c12-4ba0-fb85-6e8489c48c14"
   },
   "outputs": [
    {
     "data": {
      "text/html": [
       "<div>\n",
       "<style scoped>\n",
       "    .dataframe tbody tr th:only-of-type {\n",
       "        vertical-align: middle;\n",
       "    }\n",
       "\n",
       "    .dataframe tbody tr th {\n",
       "        vertical-align: top;\n",
       "    }\n",
       "\n",
       "    .dataframe thead th {\n",
       "        text-align: right;\n",
       "    }\n",
       "</style>\n",
       "<table border=\"1\" class=\"dataframe\">\n",
       "  <thead>\n",
       "    <tr style=\"text-align: right;\">\n",
       "      <th></th>\n",
       "      <th>Text_ID</th>\n",
       "      <th>Overall_Score</th>\n",
       "      <th>Negative_Score</th>\n",
       "      <th>Neutral_Score</th>\n",
       "      <th>Positive_Score</th>\n",
       "    </tr>\n",
       "  </thead>\n",
       "  <tbody>\n",
       "    <tr>\n",
       "      <th>count</th>\n",
       "      <td>622.000000</td>\n",
       "      <td>622.000000</td>\n",
       "      <td>622.000000</td>\n",
       "      <td>622.000000</td>\n",
       "      <td>622.000000</td>\n",
       "    </tr>\n",
       "    <tr>\n",
       "      <th>mean</th>\n",
       "      <td>311.500000</td>\n",
       "      <td>0.677799</td>\n",
       "      <td>0.010027</td>\n",
       "      <td>0.846725</td>\n",
       "      <td>0.143240</td>\n",
       "    </tr>\n",
       "    <tr>\n",
       "      <th>std</th>\n",
       "      <td>179.700213</td>\n",
       "      <td>0.323263</td>\n",
       "      <td>0.022349</td>\n",
       "      <td>0.082112</td>\n",
       "      <td>0.080211</td>\n",
       "    </tr>\n",
       "    <tr>\n",
       "      <th>min</th>\n",
       "      <td>1.000000</td>\n",
       "      <td>-0.606000</td>\n",
       "      <td>0.000000</td>\n",
       "      <td>0.598000</td>\n",
       "      <td>0.000000</td>\n",
       "    </tr>\n",
       "    <tr>\n",
       "      <th>25%</th>\n",
       "      <td>156.250000</td>\n",
       "      <td>0.557400</td>\n",
       "      <td>0.000000</td>\n",
       "      <td>0.788000</td>\n",
       "      <td>0.088000</td>\n",
       "    </tr>\n",
       "    <tr>\n",
       "      <th>50%</th>\n",
       "      <td>311.500000</td>\n",
       "      <td>0.798700</td>\n",
       "      <td>0.000000</td>\n",
       "      <td>0.849000</td>\n",
       "      <td>0.139000</td>\n",
       "    </tr>\n",
       "    <tr>\n",
       "      <th>75%</th>\n",
       "      <td>466.750000</td>\n",
       "      <td>0.913575</td>\n",
       "      <td>0.000000</td>\n",
       "      <td>0.904000</td>\n",
       "      <td>0.200000</td>\n",
       "    </tr>\n",
       "    <tr>\n",
       "      <th>max</th>\n",
       "      <td>622.000000</td>\n",
       "      <td>0.994600</td>\n",
       "      <td>0.165000</td>\n",
       "      <td>1.000000</td>\n",
       "      <td>0.402000</td>\n",
       "    </tr>\n",
       "  </tbody>\n",
       "</table>\n",
       "</div>"
      ],
      "text/plain": [
       "          Text_ID  Overall_Score  Negative_Score  Neutral_Score  \\\n",
       "count  622.000000     622.000000      622.000000     622.000000   \n",
       "mean   311.500000       0.677799        0.010027       0.846725   \n",
       "std    179.700213       0.323263        0.022349       0.082112   \n",
       "min      1.000000      -0.606000        0.000000       0.598000   \n",
       "25%    156.250000       0.557400        0.000000       0.788000   \n",
       "50%    311.500000       0.798700        0.000000       0.849000   \n",
       "75%    466.750000       0.913575        0.000000       0.904000   \n",
       "max    622.000000       0.994600        0.165000       1.000000   \n",
       "\n",
       "       Positive_Score  \n",
       "count      622.000000  \n",
       "mean         0.143240  \n",
       "std          0.080211  \n",
       "min          0.000000  \n",
       "25%          0.088000  \n",
       "50%          0.139000  \n",
       "75%          0.200000  \n",
       "max          0.402000  "
      ]
     },
     "execution_count": 216,
     "metadata": {
      "tags": []
     },
     "output_type": "execute_result"
    }
   ],
   "source": [
    "result_vader.describe()"
   ]
  },
  {
   "cell_type": "code",
   "execution_count": 217,
   "metadata": {
    "colab": {
     "base_uri": "https://localhost:8080/",
     "height": 379
    },
    "colab_type": "code",
    "id": "mHalr1JpaEO6",
    "outputId": "2028a426-4226-48c6-807f-0518aee24f0c"
   },
   "outputs": [
    {
     "data": {
      "text/plain": [
       "<matplotlib.axes._subplots.AxesSubplot at 0x7fdb18e1c4e0>"
      ]
     },
     "execution_count": 217,
     "metadata": {
      "tags": []
     },
     "output_type": "execute_result"
    },
    {
     "data": {
      "image/png": "[encoded data removed]",
      "text/plain": [
       "<matplotlib.figure.Figure at 0x7fdb1b965fd0>"
      ]
     },
     "metadata": {
      "tags": []
     },
     "output_type": "display_data"
    }
   ],
   "source": [
    "sns.distplot(result_vader['Overall_Score'])"
   ]
  },
  {
   "cell_type": "markdown",
   "metadata": {
    "colab_type": "text",
    "id": "s5Zla0sGaRN4"
   },
   "source": [
    "#Conclusion:\n",
    "1. The above plot show that the Overall score is positively scewed.\n",
    "2. The range for Overall score is -0.6 to +0.99.\n",
    "3. By considering the 50 and 75 percentile of Overall score we can choose the threshold for the sentiment.\n"
   ]
  },
  {
   "cell_type": "code",
   "execution_count": 0,
   "metadata": {
    "colab": {},
    "colab_type": "code",
    "id": "rCUlr690a083"
   },
   "outputs": [],
   "source": [
    "result_vader['Sentiment_Vader'] = 'Neutral'\n",
    "result_vader.loc[result_vader['Overall_Score'] > 0.55, 'Sentiment_Vader'] = 'Positive'\n",
    "result_vader.loc[result_vader['Overall_Score'] < 0.0, 'Sentiment_Vader'] = 'Negative'"
   ]
  },
  {
   "cell_type": "code",
   "execution_count": 219,
   "metadata": {
    "colab": {
     "base_uri": "https://localhost:8080/",
     "height": 198
    },
    "colab_type": "code",
    "id": "RG5iGdGhbsdz",
    "outputId": "24267000-22bb-44c8-9fff-ddf18b5868d8"
   },
   "outputs": [
    {
     "data": {
      "text/html": [
       "<div>\n",
       "<style scoped>\n",
       "    .dataframe tbody tr th:only-of-type {\n",
       "        vertical-align: middle;\n",
       "    }\n",
       "\n",
       "    .dataframe tbody tr th {\n",
       "        vertical-align: top;\n",
       "    }\n",
       "\n",
       "    .dataframe thead th {\n",
       "        text-align: right;\n",
       "    }\n",
       "</style>\n",
       "<table border=\"1\" class=\"dataframe\">\n",
       "  <thead>\n",
       "    <tr style=\"text-align: right;\">\n",
       "      <th></th>\n",
       "      <th>Text_ID</th>\n",
       "      <th>API</th>\n",
       "      <th>Overall_Score</th>\n",
       "      <th>Negative_Score</th>\n",
       "      <th>Neutral_Score</th>\n",
       "      <th>Positive_Score</th>\n",
       "      <th>Sentiment_Vader</th>\n",
       "    </tr>\n",
       "  </thead>\n",
       "  <tbody>\n",
       "    <tr>\n",
       "      <th>0</th>\n",
       "      <td>1</td>\n",
       "      <td>Vader</td>\n",
       "      <td>0.0000</td>\n",
       "      <td>0.0</td>\n",
       "      <td>1.000</td>\n",
       "      <td>0.000</td>\n",
       "      <td>Neutral</td>\n",
       "    </tr>\n",
       "    <tr>\n",
       "      <th>1</th>\n",
       "      <td>2</td>\n",
       "      <td>Vader</td>\n",
       "      <td>0.7096</td>\n",
       "      <td>0.0</td>\n",
       "      <td>0.848</td>\n",
       "      <td>0.152</td>\n",
       "      <td>Positive</td>\n",
       "    </tr>\n",
       "    <tr>\n",
       "      <th>2</th>\n",
       "      <td>3</td>\n",
       "      <td>Vader</td>\n",
       "      <td>0.3182</td>\n",
       "      <td>0.0</td>\n",
       "      <td>0.892</td>\n",
       "      <td>0.108</td>\n",
       "      <td>Neutral</td>\n",
       "    </tr>\n",
       "    <tr>\n",
       "      <th>3</th>\n",
       "      <td>4</td>\n",
       "      <td>Vader</td>\n",
       "      <td>0.8658</td>\n",
       "      <td>0.0</td>\n",
       "      <td>0.872</td>\n",
       "      <td>0.128</td>\n",
       "      <td>Positive</td>\n",
       "    </tr>\n",
       "    <tr>\n",
       "      <th>4</th>\n",
       "      <td>5</td>\n",
       "      <td>Vader</td>\n",
       "      <td>0.0000</td>\n",
       "      <td>0.0</td>\n",
       "      <td>1.000</td>\n",
       "      <td>0.000</td>\n",
       "      <td>Neutral</td>\n",
       "    </tr>\n",
       "  </tbody>\n",
       "</table>\n",
       "</div>"
      ],
      "text/plain": [
       "   Text_ID    API  Overall_Score  Negative_Score  Neutral_Score  \\\n",
       "0        1  Vader         0.0000             0.0          1.000   \n",
       "1        2  Vader         0.7096             0.0          0.848   \n",
       "2        3  Vader         0.3182             0.0          0.892   \n",
       "3        4  Vader         0.8658             0.0          0.872   \n",
       "4        5  Vader         0.0000             0.0          1.000   \n",
       "\n",
       "   Positive_Score Sentiment_Vader  \n",
       "0           0.000         Neutral  \n",
       "1           0.152        Positive  \n",
       "2           0.108         Neutral  \n",
       "3           0.128        Positive  \n",
       "4           0.000         Neutral  "
      ]
     },
     "execution_count": 219,
     "metadata": {
      "tags": []
     },
     "output_type": "execute_result"
    }
   ],
   "source": [
    "result_vader.head()"
   ]
  },
  {
   "cell_type": "code",
   "execution_count": 220,
   "metadata": {
    "colab": {
     "base_uri": "https://localhost:8080/",
     "height": 108
    },
    "colab_type": "code",
    "id": "5CfFQ2dubueN",
    "outputId": "5c1ee13d-25e2-45ea-ebc3-acf8c2f83beb"
   },
   "outputs": [
    {
     "data": {
      "text/plain": [
       "Sentiment_Vader\n",
       "Negative     17\n",
       "Neutral     138\n",
       "Positive    467\n",
       "Name: Sentiment_Vader, dtype: int64"
      ]
     },
     "execution_count": 220,
     "metadata": {
      "tags": []
     },
     "output_type": "execute_result"
    }
   ],
   "source": [
    "result_vader.groupby('Sentiment_Vader')['Sentiment_Vader'].count()"
   ]
  },
  {
   "cell_type": "code",
   "execution_count": 0,
   "metadata": {
    "colab": {},
    "colab_type": "code",
    "id": "7u2tY2btcBDm"
   },
   "outputs": [],
   "source": [
    "y_pred_vader = result_vader['Sentiment_Vader']"
   ]
  },
  {
   "cell_type": "code",
   "execution_count": 222,
   "metadata": {
    "colab": {
     "base_uri": "https://localhost:8080/",
     "height": 633
    },
    "colab_type": "code",
    "id": "WazRELAtb337",
    "outputId": "9bd2b9fd-175a-4420-f538-29c60acf9391"
   },
   "outputs": [
    {
     "name": "stdout",
     "output_type": "stream",
     "text": [
      "Accuracy Score:  0.5755627009646302\n",
      "Predicted  Negative  Neutral  Positive  __all__\n",
      "Actual                                         \n",
      "Negative          6       18        38       62\n",
      "Neutral           6       80       157      243\n",
      "Positive          5       40       272      317\n",
      "__all__          17      138       467      622\n"
     ]
    },
    {
     "data": {
      "image/png": "[encoded data removed]",
      "text/plain": [
       "<matplotlib.figure.Figure at 0x7fdb18d81b70>"
      ]
     },
     "metadata": {
      "tags": []
     },
     "output_type": "display_data"
    }
   ],
   "source": [
    "cnf_matrix_vader = ConfusionMatrix(y_true, y_pred_vader)\n",
    "acc_score_vader = accuracy_score(y_true, y_pred_vader)\n",
    "\n",
    "\n",
    "print('Accuracy Score: ', acc_score_vader)\n",
    "\n",
    "print(cnf_matrix_vader)\n",
    "\n",
    "cnf_matrix_vader.plot()\n",
    "plt.show()"
   ]
  },
  {
   "cell_type": "code",
   "execution_count": 0,
   "metadata": {
    "colab": {},
    "colab_type": "code",
    "id": "2u1qrPdfcNLC"
   },
   "outputs": [],
   "source": []
  },
  {
   "cell_type": "markdown",
   "metadata": {
    "colab_type": "text",
    "id": "qGBbBvP_co3l"
   },
   "source": [
    "#Comapre API Performance:"
   ]
  },
  {
   "cell_type": "markdown",
   "metadata": {
    "colab_type": "text",
    "id": "fclKkXTDgOL1"
   },
   "source": [
    "## Time"
   ]
  },
  {
   "cell_type": "code",
   "execution_count": 228,
   "metadata": {
    "colab": {
     "base_uri": "https://localhost:8080/",
     "height": 108
    },
    "colab_type": "code",
    "id": "Ub--1pVIcsgC",
    "outputId": "518fede6-6aed-4b90-c083-ee4812ac92ad"
   },
   "outputs": [
    {
     "name": "stdout",
     "output_type": "stream",
     "text": [
      "Execution time by AWS:  62.86798977851868\n",
      "Execution time by Microsoft Azure:  3.167090654373169\n",
      "Execution time by IBM:  229.88341784477234\n",
      "Execution time by Google:  47.409239530563354\n",
      "Execution time by Vader:  0.7608842849731445\n"
     ]
    }
   ],
   "source": [
    "print('Execution time by AWS: ', time_aws)\n",
    "print('Execution time by Microsoft Azure: ', time_azure)\n",
    "print('Execution time by IBM: ', time_ibm)\n",
    "print('Execution time by Google: ', time_gcp)\n",
    "print('Execution time by Vader: ', time_vader)"
   ]
  },
  {
   "cell_type": "code",
   "execution_count": 0,
   "metadata": {
    "colab": {},
    "colab_type": "code",
    "id": "XXF4En4zdudy"
   },
   "outputs": [],
   "source": [
    "Time_dict = {'AWS':time_aws,'AZURE':time_azure,'IBM':time_ibm,'GOOGLE':time_gcp,'VADER':time_vader}"
   ]
  },
  {
   "cell_type": "code",
   "execution_count": 230,
   "metadata": {
    "colab": {
     "base_uri": "https://localhost:8080/",
     "height": 108
    },
    "colab_type": "code",
    "id": "kugwnn3DeMKi",
    "outputId": "9f911497-435e-43a8-8a1d-1c5f885f2f17"
   },
   "outputs": [
    {
     "data": {
      "text/plain": [
       "{'AWS': 62.86798977851868,\n",
       " 'AZURE': 3.167090654373169,\n",
       " 'GOOGLE': 47.409239530563354,\n",
       " 'IBM': 229.88341784477234,\n",
       " 'VADER': 0.7608842849731445}"
      ]
     },
     "execution_count": 230,
     "metadata": {
      "tags": []
     },
     "output_type": "execute_result"
    }
   ],
   "source": [
    "Time_dict"
   ]
  },
  {
   "cell_type": "code",
   "execution_count": 234,
   "metadata": {
    "colab": {
     "base_uri": "https://localhost:8080/",
     "height": 395
    },
    "colab_type": "code",
    "id": "LXUdM2xQeNt3",
    "outputId": "a6744d42-a32c-4c47-fc95-aebbfe00456a"
   },
   "outputs": [
    {
     "data": {
      "text/plain": [
       "<Container object of 5 artists>"
      ]
     },
     "execution_count": 234,
     "metadata": {
      "tags": []
     },
     "output_type": "execute_result"
    },
    {
     "data": {
      "image/png": "[encoded data removed]",
      "text/plain": [
       "<matplotlib.figure.Figure at 0x7fdb18bf1ba8>"
      ]
     },
     "metadata": {
      "tags": []
     },
     "output_type": "display_data"
    }
   ],
   "source": [
    "plt.title('Execution time taken by different API')\n",
    "plt.xlabel('Sentiment Analysis API')\n",
    "plt.ylabel('Execution time in seconds')\n",
    "plt.bar(Time_dict.keys(), Time_dict.values())"
   ]
  },
  {
   "cell_type": "markdown",
   "metadata": {
    "colab_type": "text",
    "id": "DX2xBpn_iUhJ"
   },
   "source": [
    "1. AWS, AZURE, GOOGLE and IBM for this API we need to hit to the external application to get the result.\n",
    "2. For Vader API, it resides locally. Hence Vader API execute fast than other APIs.\n",
    "3. Also, Microsoft Azure API uses the document concept for the sentiment analysis, in which we can hit all the samples of text in one go. Thus in one hit we can the result for our dataset.\n",
    "4. Whereas, other API get called one iterartion at a time.\n",
    "5. We tried to use RISE Lab Ray to parallelize the API execution but as this are APIs, they are thread lock. Hence could not succeed."
   ]
  },
  {
   "cell_type": "markdown",
   "metadata": {
    "colab_type": "text",
    "id": "6K-bsGekgSia"
   },
   "source": [
    "## Accuracy"
   ]
  },
  {
   "cell_type": "code",
   "execution_count": 235,
   "metadata": {
    "colab": {
     "base_uri": "https://localhost:8080/",
     "height": 108
    },
    "colab_type": "code",
    "id": "wkR4Ew3GgVeb",
    "outputId": "8ba4a0e4-8028-4f76-f4e3-bb7c820bf90f"
   },
   "outputs": [
    {
     "name": "stdout",
     "output_type": "stream",
     "text": [
      "Sentiment Accuracy by AWS:  0.43086816720257237\n",
      "Sentiment Accuracy by Microsoft Azure:  0.45980707395498394\n",
      "Sentiment Accuracy by IBM:  0.5289389067524116\n",
      "Sentiment Accuracy by Google:  0.5401929260450161\n",
      "Sentiment Accuracy by Vader:  0.5755627009646302\n"
     ]
    }
   ],
   "source": [
    "print('Sentiment Accuracy by AWS: ', acc_score_aws)\n",
    "print('Sentiment Accuracy by Microsoft Azure: ', acc_score_azure)\n",
    "print('Sentiment Accuracy by IBM: ', acc_score_ibm)\n",
    "print('Sentiment Accuracy by Google: ', acc_score_gcp)\n",
    "print('Sentiment Accuracy by Vader: ', acc_score_vader)"
   ]
  },
  {
   "cell_type": "code",
   "execution_count": 0,
   "metadata": {
    "colab": {},
    "colab_type": "code",
    "id": "80tgizQdgrdA"
   },
   "outputs": [],
   "source": [
    "Acc_dict = {'AWS':acc_score_aws,'AZURE':acc_score_azure,'IBM':acc_score_ibm,'GOOGLE':acc_score_gcp,'VADER':acc_score_vader}"
   ]
  },
  {
   "cell_type": "code",
   "execution_count": 237,
   "metadata": {
    "colab": {
     "base_uri": "https://localhost:8080/",
     "height": 108
    },
    "colab_type": "code",
    "id": "giPhP_udhAK1",
    "outputId": "0fbdd788-ab7c-42db-b40f-ac71efc59de7"
   },
   "outputs": [
    {
     "data": {
      "text/plain": [
       "{'AWS': 0.43086816720257237,\n",
       " 'AZURE': 0.45980707395498394,\n",
       " 'GOOGLE': 0.5401929260450161,\n",
       " 'IBM': 0.5289389067524116,\n",
       " 'VADER': 0.5755627009646302}"
      ]
     },
     "execution_count": 237,
     "metadata": {
      "tags": []
     },
     "output_type": "execute_result"
    }
   ],
   "source": [
    "Acc_dict"
   ]
  },
  {
   "cell_type": "code",
   "execution_count": 238,
   "metadata": {
    "colab": {
     "base_uri": "https://localhost:8080/",
     "height": 395
    },
    "colab_type": "code",
    "id": "OJWJXOfnhBJo",
    "outputId": "bc324a06-11c5-4523-80ec-17a4f6cc0b8a"
   },
   "outputs": [
    {
     "data": {
      "text/plain": [
       "<Container object of 5 artists>"
      ]
     },
     "execution_count": 238,
     "metadata": {
      "tags": []
     },
     "output_type": "execute_result"
    },
    {
     "data": {
      "image/png": "[encoded data removed]",
      "text/plain": [
       "<matplotlib.figure.Figure at 0x7fdb18bcc2e8>"
      ]
     },
     "metadata": {
      "tags": []
     },
     "output_type": "display_data"
    }
   ],
   "source": [
    "plt.title('Sentiment Analysis accuracy by different API')\n",
    "plt.xlabel('Sentiment Analysis API')\n",
    "plt.ylabel('Accuracy')\n",
    "plt.bar(Acc_dict.keys(), Acc_dict.values())"
   ]
  },
  {
   "cell_type": "markdown",
   "metadata": {
    "colab_type": "text",
    "id": "eMnapDKXkciH"
   },
   "source": [
    "1. As per the plot, we can see that the Vader API give us the better result as comapre to other APIs.\n",
    "2. The response for AWS and IBM APIs is already classified as Positive, Negative and Neutral.\n",
    "3. But for Google, Micorsoft Azure and Vader APIs we have overhead to classify the sentiment based on the scores.\n",
    "4. This scoring systems to the text for sentiment gives us the flexibility to choose the threshold for classifying the sentiment for that text.\n",
    "5. As we can see that for all the APIs the accuracy fall between 43% to 57% which is releativley less.\n",
    "6. This might be the case because of incorrect labeling to the dataser under consideration.\n",
    "7. If that is the case then we can expect more accuracy from the above APIs."
   ]
  },
  {
   "cell_type": "markdown",
   "metadata": {
    "colab_type": "text",
    "id": "RdocTDGihwya"
   },
   "source": [
    "#Pricing"
   ]
  },
  {
   "cell_type": "markdown",
   "metadata": {
    "colab_type": "text",
    "id": "c2hH4PA3mqrB"
   },
   "source": [
    "1. We can find the pricing model for AWS sentiment analysis Comprehend API here: https://aws.amazon.com/comprehend/pricing/\n",
    "2. IBM: https://www.ibm.com/cloud/watson-natural-language-understanding/pricing\n",
    "3. Google: https://cloud.google.com/natural-language/pricing\n",
    "4. Microsoft Azure: https://azure.microsoft.com/en-us/pricing/details/cognitive-services/text-analytics/\n",
    "5. Vader: Open Source - Free"
   ]
  },
  {
   "cell_type": "markdown",
   "metadata": {
    "colab_type": "text",
    "id": "wDZyz0FFqeSw"
   },
   "source": [
    "1. All commercial APIs for sentiment analysis has price associated with it.\n",
    "2. However, Vader API is open source.\n",
    "3. Thus there is no limit on the usage. "
   ]
  },
  {
   "cell_type": "code",
   "execution_count": 0,
   "metadata": {
    "colab": {},
    "colab_type": "code",
    "id": "jxlq6Z5VzBsQ"
   },
   "outputs": [],
   "source": []
  }
 ],
 "metadata": {
  "accelerator": "GPU",
  "colab": {
   "collapsed_sections": [],
   "name": "Final_Assignment3.ipynb",
   "provenance": [],
   "version": "0.3.2"
  },
  "kernelspec": {
   "display_name": "Python 3",
   "language": "python",
   "name": "python3"
  },
  "language_info": {
   "codemirror_mode": {
    "name": "ipython",
    "version": 3
   },
   "file_extension": ".py",
   "mimetype": "text/x-python",
   "name": "python",
   "nbconvert_exporter": "python",
   "pygments_lexer": "ipython3",
   "version": "3.6.5"
  }
 },
 "nbformat": 4,
 "nbformat_minor": 1
}
